{
 "cells": [
  {
   "cell_type": "code",
   "execution_count": 1,
   "metadata": {
    "ExecuteTime": {
     "end_time": "2021-12-23T13:01:35.362693Z",
     "start_time": "2021-12-23T13:01:35.360146Z"
    }
   },
   "outputs": [],
   "source": [
    "import warnings\n",
    "warnings.filterwarnings('ignore')"
   ]
  },
  {
   "cell_type": "code",
   "execution_count": 2,
   "metadata": {
    "scrolled": true
   },
   "outputs": [
    {
     "name": "stdout",
     "output_type": "stream",
     "text": [
      "Requirement already satisfied: google-cloud-speech in /Users/hyemisong/.pyenv/versions/3.9.1/envs/savi-3.9.1-1/lib/python3.9/site-packages (2.24.1)\n",
      "Requirement already satisfied: google-api-core!=2.0.*,!=2.1.*,!=2.10.*,!=2.2.*,!=2.3.*,!=2.4.*,!=2.5.*,!=2.6.*,!=2.7.*,!=2.8.*,!=2.9.*,<3.0.0dev,>=1.34.0 in /Users/hyemisong/.pyenv/versions/3.9.1/envs/savi-3.9.1-1/lib/python3.9/site-packages (from google-api-core[grpc]!=2.0.*,!=2.1.*,!=2.10.*,!=2.2.*,!=2.3.*,!=2.4.*,!=2.5.*,!=2.6.*,!=2.7.*,!=2.8.*,!=2.9.*,<3.0.0dev,>=1.34.0->google-cloud-speech) (2.17.1)\n",
      "Requirement already satisfied: google-auth<3.0.0dev,>=2.14.1 in /Users/hyemisong/.pyenv/versions/3.9.1/envs/savi-3.9.1-1/lib/python3.9/site-packages (from google-cloud-speech) (2.28.0)\n",
      "Requirement already satisfied: proto-plus<2.0.0dev,>=1.22.3 in /Users/hyemisong/.pyenv/versions/3.9.1/envs/savi-3.9.1-1/lib/python3.9/site-packages (from google-cloud-speech) (1.23.0)\n",
      "Requirement already satisfied: protobuf!=3.20.0,!=3.20.1,!=4.21.0,!=4.21.1,!=4.21.2,!=4.21.3,!=4.21.4,!=4.21.5,<5.0.0dev,>=3.19.5 in /Users/hyemisong/.pyenv/versions/3.9.1/envs/savi-3.9.1-1/lib/python3.9/site-packages (from google-cloud-speech) (4.25.3)\n",
      "Requirement already satisfied: googleapis-common-protos<2.0.dev0,>=1.56.2 in /Users/hyemisong/.pyenv/versions/3.9.1/envs/savi-3.9.1-1/lib/python3.9/site-packages (from google-api-core!=2.0.*,!=2.1.*,!=2.10.*,!=2.2.*,!=2.3.*,!=2.4.*,!=2.5.*,!=2.6.*,!=2.7.*,!=2.8.*,!=2.9.*,<3.0.0dev,>=1.34.0->google-api-core[grpc]!=2.0.*,!=2.1.*,!=2.10.*,!=2.2.*,!=2.3.*,!=2.4.*,!=2.5.*,!=2.6.*,!=2.7.*,!=2.8.*,!=2.9.*,<3.0.0dev,>=1.34.0->google-cloud-speech) (1.62.0)\n",
      "Requirement already satisfied: requests<3.0.0.dev0,>=2.18.0 in /Users/hyemisong/.pyenv/versions/3.9.1/envs/savi-3.9.1-1/lib/python3.9/site-packages (from google-api-core!=2.0.*,!=2.1.*,!=2.10.*,!=2.2.*,!=2.3.*,!=2.4.*,!=2.5.*,!=2.6.*,!=2.7.*,!=2.8.*,!=2.9.*,<3.0.0dev,>=1.34.0->google-api-core[grpc]!=2.0.*,!=2.1.*,!=2.10.*,!=2.2.*,!=2.3.*,!=2.4.*,!=2.5.*,!=2.6.*,!=2.7.*,!=2.8.*,!=2.9.*,<3.0.0dev,>=1.34.0->google-cloud-speech) (2.31.0)\n",
      "Requirement already satisfied: grpcio<2.0dev,>=1.33.2 in /Users/hyemisong/.pyenv/versions/3.9.1/envs/savi-3.9.1-1/lib/python3.9/site-packages (from google-api-core[grpc]!=2.0.*,!=2.1.*,!=2.10.*,!=2.2.*,!=2.3.*,!=2.4.*,!=2.5.*,!=2.6.*,!=2.7.*,!=2.8.*,!=2.9.*,<3.0.0dev,>=1.34.0->google-cloud-speech) (1.60.1)\n",
      "Requirement already satisfied: grpcio-status<2.0.dev0,>=1.33.2 in /Users/hyemisong/.pyenv/versions/3.9.1/envs/savi-3.9.1-1/lib/python3.9/site-packages (from google-api-core[grpc]!=2.0.*,!=2.1.*,!=2.10.*,!=2.2.*,!=2.3.*,!=2.4.*,!=2.5.*,!=2.6.*,!=2.7.*,!=2.8.*,!=2.9.*,<3.0.0dev,>=1.34.0->google-cloud-speech) (1.60.1)\n",
      "Requirement already satisfied: cachetools<6.0,>=2.0.0 in /Users/hyemisong/.pyenv/versions/3.9.1/envs/savi-3.9.1-1/lib/python3.9/site-packages (from google-auth<3.0.0dev,>=2.14.1->google-cloud-speech) (5.3.2)\n",
      "Requirement already satisfied: pyasn1-modules>=0.2.1 in /Users/hyemisong/.pyenv/versions/3.9.1/envs/savi-3.9.1-1/lib/python3.9/site-packages (from google-auth<3.0.0dev,>=2.14.1->google-cloud-speech) (0.3.0)\n",
      "Requirement already satisfied: rsa<5,>=3.1.4 in /Users/hyemisong/.pyenv/versions/3.9.1/envs/savi-3.9.1-1/lib/python3.9/site-packages (from google-auth<3.0.0dev,>=2.14.1->google-cloud-speech) (4.9)\n",
      "Requirement already satisfied: pyasn1<0.6.0,>=0.4.6 in /Users/hyemisong/.pyenv/versions/3.9.1/envs/savi-3.9.1-1/lib/python3.9/site-packages (from pyasn1-modules>=0.2.1->google-auth<3.0.0dev,>=2.14.1->google-cloud-speech) (0.5.1)\n",
      "Requirement already satisfied: charset-normalizer<4,>=2 in /Users/hyemisong/.pyenv/versions/3.9.1/envs/savi-3.9.1-1/lib/python3.9/site-packages (from requests<3.0.0.dev0,>=2.18.0->google-api-core!=2.0.*,!=2.1.*,!=2.10.*,!=2.2.*,!=2.3.*,!=2.4.*,!=2.5.*,!=2.6.*,!=2.7.*,!=2.8.*,!=2.9.*,<3.0.0dev,>=1.34.0->google-api-core[grpc]!=2.0.*,!=2.1.*,!=2.10.*,!=2.2.*,!=2.3.*,!=2.4.*,!=2.5.*,!=2.6.*,!=2.7.*,!=2.8.*,!=2.9.*,<3.0.0dev,>=1.34.0->google-cloud-speech) (3.3.2)\n",
      "Requirement already satisfied: idna<4,>=2.5 in /Users/hyemisong/.pyenv/versions/3.9.1/envs/savi-3.9.1-1/lib/python3.9/site-packages (from requests<3.0.0.dev0,>=2.18.0->google-api-core!=2.0.*,!=2.1.*,!=2.10.*,!=2.2.*,!=2.3.*,!=2.4.*,!=2.5.*,!=2.6.*,!=2.7.*,!=2.8.*,!=2.9.*,<3.0.0dev,>=1.34.0->google-api-core[grpc]!=2.0.*,!=2.1.*,!=2.10.*,!=2.2.*,!=2.3.*,!=2.4.*,!=2.5.*,!=2.6.*,!=2.7.*,!=2.8.*,!=2.9.*,<3.0.0dev,>=1.34.0->google-cloud-speech) (3.6)\n",
      "Requirement already satisfied: urllib3<3,>=1.21.1 in /Users/hyemisong/.pyenv/versions/3.9.1/envs/savi-3.9.1-1/lib/python3.9/site-packages (from requests<3.0.0.dev0,>=2.18.0->google-api-core!=2.0.*,!=2.1.*,!=2.10.*,!=2.2.*,!=2.3.*,!=2.4.*,!=2.5.*,!=2.6.*,!=2.7.*,!=2.8.*,!=2.9.*,<3.0.0dev,>=1.34.0->google-api-core[grpc]!=2.0.*,!=2.1.*,!=2.10.*,!=2.2.*,!=2.3.*,!=2.4.*,!=2.5.*,!=2.6.*,!=2.7.*,!=2.8.*,!=2.9.*,<3.0.0dev,>=1.34.0->google-cloud-speech) (2.2.1)\n",
      "Requirement already satisfied: certifi>=2017.4.17 in /Users/hyemisong/.pyenv/versions/3.9.1/envs/savi-3.9.1-1/lib/python3.9/site-packages (from requests<3.0.0.dev0,>=2.18.0->google-api-core!=2.0.*,!=2.1.*,!=2.10.*,!=2.2.*,!=2.3.*,!=2.4.*,!=2.5.*,!=2.6.*,!=2.7.*,!=2.8.*,!=2.9.*,<3.0.0dev,>=1.34.0->google-api-core[grpc]!=2.0.*,!=2.1.*,!=2.10.*,!=2.2.*,!=2.3.*,!=2.4.*,!=2.5.*,!=2.6.*,!=2.7.*,!=2.8.*,!=2.9.*,<3.0.0dev,>=1.34.0->google-cloud-speech) (2024.2.2)\n"
     ]
    }
   ],
   "source": [
    "! pip3 install --upgrade google-cloud-speech"
   ]
  },
  {
   "cell_type": "code",
   "execution_count": 3,
   "metadata": {},
   "outputs": [
    {
     "name": "stdout",
     "output_type": "stream",
     "text": [
      "Requirement already satisfied: SpeechRecognition in /Users/hyemisong/.pyenv/versions/3.9.1/envs/savi-3.9.1-1/lib/python3.9/site-packages (3.10.1)\n",
      "Requirement already satisfied: requests>=2.26.0 in /Users/hyemisong/.pyenv/versions/3.9.1/envs/savi-3.9.1-1/lib/python3.9/site-packages (from SpeechRecognition) (2.31.0)\n",
      "Requirement already satisfied: typing-extensions in /Users/hyemisong/.pyenv/versions/3.9.1/envs/savi-3.9.1-1/lib/python3.9/site-packages (from SpeechRecognition) (4.9.0)\n",
      "Requirement already satisfied: charset-normalizer<4,>=2 in /Users/hyemisong/.pyenv/versions/3.9.1/envs/savi-3.9.1-1/lib/python3.9/site-packages (from requests>=2.26.0->SpeechRecognition) (3.3.2)\n",
      "Requirement already satisfied: idna<4,>=2.5 in /Users/hyemisong/.pyenv/versions/3.9.1/envs/savi-3.9.1-1/lib/python3.9/site-packages (from requests>=2.26.0->SpeechRecognition) (3.6)\n",
      "Requirement already satisfied: urllib3<3,>=1.21.1 in /Users/hyemisong/.pyenv/versions/3.9.1/envs/savi-3.9.1-1/lib/python3.9/site-packages (from requests>=2.26.0->SpeechRecognition) (2.2.1)\n",
      "Requirement already satisfied: certifi>=2017.4.17 in /Users/hyemisong/.pyenv/versions/3.9.1/envs/savi-3.9.1-1/lib/python3.9/site-packages (from requests>=2.26.0->SpeechRecognition) (2024.2.2)\n"
     ]
    }
   ],
   "source": [
    "!pip3 install SpeechRecognition"
   ]
  },
  {
   "cell_type": "code",
   "execution_count": 4,
   "metadata": {},
   "outputs": [
    {
     "data": {
      "text/plain": [
       "'\\nIf it reports:\\n\\'OSError: dlopen(.../_torchtext.so, 6): Symbol not found:\\'\\n\\nJust replay the \"from Sevi import Sevi\" again, the problem should be solve automatically.\\n'"
      ]
     },
     "execution_count": 4,
     "metadata": {},
     "output_type": "execute_result"
    }
   ],
   "source": [
    "'''\n",
    "If it reports:\n",
    "'OSError: dlopen(.../_torchtext.so, 6): Symbol not found:'\n",
    "\n",
    "Just replay the \"from Sevi import Sevi\" again, the problem should be solve automatically.\n",
    "'''"
   ]
  },
  {
   "cell_type": "markdown",
   "metadata": {},
   "source": [
    "# Sevi Demonstration"
   ]
  },
  {
   "cell_type": "code",
   "execution_count": 5,
   "metadata": {},
   "outputs": [
    {
     "name": "stdout",
     "output_type": "stream",
     "text": [
      "Requirement already satisfied: pandas in /Users/hyemisong/.pyenv/versions/3.9.1/envs/savi-3.9.1-1/lib/python3.9/site-packages (1.5.3)\n",
      "Requirement already satisfied: python-dateutil>=2.8.1 in /Users/hyemisong/.pyenv/versions/3.9.1/envs/savi-3.9.1-1/lib/python3.9/site-packages (from pandas) (2.8.2)\n",
      "Requirement already satisfied: pytz>=2020.1 in /Users/hyemisong/.pyenv/versions/3.9.1/envs/savi-3.9.1-1/lib/python3.9/site-packages (from pandas) (2024.1)\n",
      "Requirement already satisfied: numpy>=1.20.3 in /Users/hyemisong/.pyenv/versions/3.9.1/envs/savi-3.9.1-1/lib/python3.9/site-packages (from pandas) (1.26.4)\n",
      "Requirement already satisfied: six>=1.5 in /Users/hyemisong/.pyenv/versions/3.9.1/envs/savi-3.9.1-1/lib/python3.9/site-packages (from python-dateutil>=2.8.1->pandas) (1.16.0)\n",
      "Requirement already satisfied: vega in /Users/hyemisong/.pyenv/versions/3.9.1/envs/savi-3.9.1-1/lib/python3.9/site-packages (4.0.0)\n",
      "Requirement already satisfied: ipytablewidgets<0.4.0,>=0.3.0 in /Users/hyemisong/.pyenv/versions/3.9.1/envs/savi-3.9.1-1/lib/python3.9/site-packages (from vega) (0.3.1)\n",
      "Requirement already satisfied: jupyter<2.0.0,>=1.0.0 in /Users/hyemisong/.pyenv/versions/3.9.1/envs/savi-3.9.1-1/lib/python3.9/site-packages (from vega) (1.0.0)\n",
      "Requirement already satisfied: pandas<2.0.0,>=1.5.0 in /Users/hyemisong/.pyenv/versions/3.9.1/envs/savi-3.9.1-1/lib/python3.9/site-packages (from vega) (1.5.3)\n",
      "Requirement already satisfied: ipywidgets<9,>=7.5.0 in /Users/hyemisong/.pyenv/versions/3.9.1/envs/savi-3.9.1-1/lib/python3.9/site-packages (from ipytablewidgets<0.4.0,>=0.3.0->vega) (8.1.2)\n",
      "Requirement already satisfied: traitlets>=4.3.0 in /Users/hyemisong/.pyenv/versions/3.9.1/envs/savi-3.9.1-1/lib/python3.9/site-packages (from ipytablewidgets<0.4.0,>=0.3.0->vega) (5.14.1)\n",
      "Requirement already satisfied: traittypes>=0.0.6 in /Users/hyemisong/.pyenv/versions/3.9.1/envs/savi-3.9.1-1/lib/python3.9/site-packages (from ipytablewidgets<0.4.0,>=0.3.0->vega) (0.2.1)\n",
      "Requirement already satisfied: numpy<2.0.0,>=1.10.4 in /Users/hyemisong/.pyenv/versions/3.9.1/envs/savi-3.9.1-1/lib/python3.9/site-packages (from ipytablewidgets<0.4.0,>=0.3.0->vega) (1.26.4)\n",
      "Requirement already satisfied: lz4 in /Users/hyemisong/.pyenv/versions/3.9.1/envs/savi-3.9.1-1/lib/python3.9/site-packages (from ipytablewidgets<0.4.0,>=0.3.0->vega) (4.3.3)\n",
      "Requirement already satisfied: notebook in /Users/hyemisong/.pyenv/versions/3.9.1/envs/savi-3.9.1-1/lib/python3.9/site-packages (from jupyter<2.0.0,>=1.0.0->vega) (7.1.0)\n",
      "Requirement already satisfied: qtconsole in /Users/hyemisong/.pyenv/versions/3.9.1/envs/savi-3.9.1-1/lib/python3.9/site-packages (from jupyter<2.0.0,>=1.0.0->vega) (5.5.1)\n",
      "Requirement already satisfied: jupyter-console in /Users/hyemisong/.pyenv/versions/3.9.1/envs/savi-3.9.1-1/lib/python3.9/site-packages (from jupyter<2.0.0,>=1.0.0->vega) (6.6.3)\n",
      "Requirement already satisfied: nbconvert in /Users/hyemisong/.pyenv/versions/3.9.1/envs/savi-3.9.1-1/lib/python3.9/site-packages (from jupyter<2.0.0,>=1.0.0->vega) (7.16.0)\n",
      "Requirement already satisfied: ipykernel in /Users/hyemisong/.pyenv/versions/3.9.1/envs/savi-3.9.1-1/lib/python3.9/site-packages (from jupyter<2.0.0,>=1.0.0->vega) (6.29.2)\n",
      "Requirement already satisfied: python-dateutil>=2.8.1 in /Users/hyemisong/.pyenv/versions/3.9.1/envs/savi-3.9.1-1/lib/python3.9/site-packages (from pandas<2.0.0,>=1.5.0->vega) (2.8.2)\n",
      "Requirement already satisfied: pytz>=2020.1 in /Users/hyemisong/.pyenv/versions/3.9.1/envs/savi-3.9.1-1/lib/python3.9/site-packages (from pandas<2.0.0,>=1.5.0->vega) (2024.1)\n",
      "Requirement already satisfied: comm>=0.1.3 in /Users/hyemisong/.pyenv/versions/3.9.1/envs/savi-3.9.1-1/lib/python3.9/site-packages (from ipywidgets<9,>=7.5.0->ipytablewidgets<0.4.0,>=0.3.0->vega) (0.2.1)\n",
      "Requirement already satisfied: ipython>=6.1.0 in /Users/hyemisong/.pyenv/versions/3.9.1/envs/savi-3.9.1-1/lib/python3.9/site-packages (from ipywidgets<9,>=7.5.0->ipytablewidgets<0.4.0,>=0.3.0->vega) (8.18.1)\n",
      "Requirement already satisfied: widgetsnbextension~=4.0.10 in /Users/hyemisong/.pyenv/versions/3.9.1/envs/savi-3.9.1-1/lib/python3.9/site-packages (from ipywidgets<9,>=7.5.0->ipytablewidgets<0.4.0,>=0.3.0->vega) (4.0.10)\n",
      "Requirement already satisfied: jupyterlab-widgets~=3.0.10 in /Users/hyemisong/.pyenv/versions/3.9.1/envs/savi-3.9.1-1/lib/python3.9/site-packages (from ipywidgets<9,>=7.5.0->ipytablewidgets<0.4.0,>=0.3.0->vega) (3.0.10)\n",
      "Requirement already satisfied: six>=1.5 in /Users/hyemisong/.pyenv/versions/3.9.1/envs/savi-3.9.1-1/lib/python3.9/site-packages (from python-dateutil>=2.8.1->pandas<2.0.0,>=1.5.0->vega) (1.16.0)\n",
      "Requirement already satisfied: appnope in /Users/hyemisong/.pyenv/versions/3.9.1/envs/savi-3.9.1-1/lib/python3.9/site-packages (from ipykernel->jupyter<2.0.0,>=1.0.0->vega) (0.1.4)\n",
      "Requirement already satisfied: debugpy>=1.6.5 in /Users/hyemisong/.pyenv/versions/3.9.1/envs/savi-3.9.1-1/lib/python3.9/site-packages (from ipykernel->jupyter<2.0.0,>=1.0.0->vega) (1.8.1)\n",
      "Requirement already satisfied: jupyter-client>=6.1.12 in /Users/hyemisong/.pyenv/versions/3.9.1/envs/savi-3.9.1-1/lib/python3.9/site-packages (from ipykernel->jupyter<2.0.0,>=1.0.0->vega) (8.6.0)\n",
      "Requirement already satisfied: jupyter-core!=5.0.*,>=4.12 in /Users/hyemisong/.pyenv/versions/3.9.1/envs/savi-3.9.1-1/lib/python3.9/site-packages (from ipykernel->jupyter<2.0.0,>=1.0.0->vega) (5.7.1)\n",
      "Requirement already satisfied: matplotlib-inline>=0.1 in /Users/hyemisong/.pyenv/versions/3.9.1/envs/savi-3.9.1-1/lib/python3.9/site-packages (from ipykernel->jupyter<2.0.0,>=1.0.0->vega) (0.1.6)\n",
      "Requirement already satisfied: nest-asyncio in /Users/hyemisong/.pyenv/versions/3.9.1/envs/savi-3.9.1-1/lib/python3.9/site-packages (from ipykernel->jupyter<2.0.0,>=1.0.0->vega) (1.6.0)\n",
      "Requirement already satisfied: packaging in /Users/hyemisong/.pyenv/versions/3.9.1/envs/savi-3.9.1-1/lib/python3.9/site-packages (from ipykernel->jupyter<2.0.0,>=1.0.0->vega) (23.2)\n",
      "Requirement already satisfied: psutil in /Users/hyemisong/.pyenv/versions/3.9.1/envs/savi-3.9.1-1/lib/python3.9/site-packages (from ipykernel->jupyter<2.0.0,>=1.0.0->vega) (5.9.8)\n",
      "Requirement already satisfied: pyzmq>=24 in /Users/hyemisong/.pyenv/versions/3.9.1/envs/savi-3.9.1-1/lib/python3.9/site-packages (from ipykernel->jupyter<2.0.0,>=1.0.0->vega) (25.1.2)\n",
      "Requirement already satisfied: tornado>=6.1 in /Users/hyemisong/.pyenv/versions/3.9.1/envs/savi-3.9.1-1/lib/python3.9/site-packages (from ipykernel->jupyter<2.0.0,>=1.0.0->vega) (6.4)\n",
      "Requirement already satisfied: prompt-toolkit>=3.0.30 in /Users/hyemisong/.pyenv/versions/3.9.1/envs/savi-3.9.1-1/lib/python3.9/site-packages (from jupyter-console->jupyter<2.0.0,>=1.0.0->vega) (3.0.43)\n",
      "Requirement already satisfied: pygments in /Users/hyemisong/.pyenv/versions/3.9.1/envs/savi-3.9.1-1/lib/python3.9/site-packages (from jupyter-console->jupyter<2.0.0,>=1.0.0->vega) (2.17.2)\n",
      "Requirement already satisfied: beautifulsoup4 in /Users/hyemisong/.pyenv/versions/3.9.1/envs/savi-3.9.1-1/lib/python3.9/site-packages (from nbconvert->jupyter<2.0.0,>=1.0.0->vega) (4.12.3)\n",
      "Requirement already satisfied: bleach!=5.0.0 in /Users/hyemisong/.pyenv/versions/3.9.1/envs/savi-3.9.1-1/lib/python3.9/site-packages (from nbconvert->jupyter<2.0.0,>=1.0.0->vega) (6.1.0)\n",
      "Requirement already satisfied: defusedxml in /Users/hyemisong/.pyenv/versions/3.9.1/envs/savi-3.9.1-1/lib/python3.9/site-packages (from nbconvert->jupyter<2.0.0,>=1.0.0->vega) (0.7.1)\n",
      "Requirement already satisfied: importlib-metadata>=3.6 in /Users/hyemisong/.pyenv/versions/3.9.1/envs/savi-3.9.1-1/lib/python3.9/site-packages (from nbconvert->jupyter<2.0.0,>=1.0.0->vega) (7.0.1)\n",
      "Requirement already satisfied: jinja2>=3.0 in /Users/hyemisong/.pyenv/versions/3.9.1/envs/savi-3.9.1-1/lib/python3.9/site-packages (from nbconvert->jupyter<2.0.0,>=1.0.0->vega) (3.1.3)\n",
      "Requirement already satisfied: jupyterlab-pygments in /Users/hyemisong/.pyenv/versions/3.9.1/envs/savi-3.9.1-1/lib/python3.9/site-packages (from nbconvert->jupyter<2.0.0,>=1.0.0->vega) (0.3.0)\n",
      "Requirement already satisfied: markupsafe>=2.0 in /Users/hyemisong/.pyenv/versions/3.9.1/envs/savi-3.9.1-1/lib/python3.9/site-packages (from nbconvert->jupyter<2.0.0,>=1.0.0->vega) (2.1.5)\n",
      "Requirement already satisfied: mistune<4,>=2.0.3 in /Users/hyemisong/.pyenv/versions/3.9.1/envs/savi-3.9.1-1/lib/python3.9/site-packages (from nbconvert->jupyter<2.0.0,>=1.0.0->vega) (3.0.2)\n",
      "Requirement already satisfied: nbclient>=0.5.0 in /Users/hyemisong/.pyenv/versions/3.9.1/envs/savi-3.9.1-1/lib/python3.9/site-packages (from nbconvert->jupyter<2.0.0,>=1.0.0->vega) (0.9.0)\n",
      "Requirement already satisfied: nbformat>=5.7 in /Users/hyemisong/.pyenv/versions/3.9.1/envs/savi-3.9.1-1/lib/python3.9/site-packages (from nbconvert->jupyter<2.0.0,>=1.0.0->vega) (5.9.2)\n",
      "Requirement already satisfied: pandocfilters>=1.4.1 in /Users/hyemisong/.pyenv/versions/3.9.1/envs/savi-3.9.1-1/lib/python3.9/site-packages (from nbconvert->jupyter<2.0.0,>=1.0.0->vega) (1.5.1)\n",
      "Requirement already satisfied: tinycss2 in /Users/hyemisong/.pyenv/versions/3.9.1/envs/savi-3.9.1-1/lib/python3.9/site-packages (from nbconvert->jupyter<2.0.0,>=1.0.0->vega) (1.2.1)\n",
      "Requirement already satisfied: jupyter-server<3,>=2.4.0 in /Users/hyemisong/.pyenv/versions/3.9.1/envs/savi-3.9.1-1/lib/python3.9/site-packages (from notebook->jupyter<2.0.0,>=1.0.0->vega) (2.12.5)\n",
      "Requirement already satisfied: jupyterlab-server<3,>=2.22.1 in /Users/hyemisong/.pyenv/versions/3.9.1/envs/savi-3.9.1-1/lib/python3.9/site-packages (from notebook->jupyter<2.0.0,>=1.0.0->vega) (2.25.3)\n",
      "Requirement already satisfied: jupyterlab<4.2,>=4.1.1 in /Users/hyemisong/.pyenv/versions/3.9.1/envs/savi-3.9.1-1/lib/python3.9/site-packages (from notebook->jupyter<2.0.0,>=1.0.0->vega) (4.1.1)\n",
      "Requirement already satisfied: notebook-shim<0.3,>=0.2 in /Users/hyemisong/.pyenv/versions/3.9.1/envs/savi-3.9.1-1/lib/python3.9/site-packages (from notebook->jupyter<2.0.0,>=1.0.0->vega) (0.2.4)\n",
      "Requirement already satisfied: qtpy>=2.4.0 in /Users/hyemisong/.pyenv/versions/3.9.1/envs/savi-3.9.1-1/lib/python3.9/site-packages (from qtconsole->jupyter<2.0.0,>=1.0.0->vega) (2.4.1)\n",
      "Requirement already satisfied: webencodings in /Users/hyemisong/.pyenv/versions/3.9.1/envs/savi-3.9.1-1/lib/python3.9/site-packages (from bleach!=5.0.0->nbconvert->jupyter<2.0.0,>=1.0.0->vega) (0.5.1)\n",
      "Requirement already satisfied: zipp>=0.5 in /Users/hyemisong/.pyenv/versions/3.9.1/envs/savi-3.9.1-1/lib/python3.9/site-packages (from importlib-metadata>=3.6->nbconvert->jupyter<2.0.0,>=1.0.0->vega) (3.17.0)\n",
      "Requirement already satisfied: decorator in /Users/hyemisong/.pyenv/versions/3.9.1/envs/savi-3.9.1-1/lib/python3.9/site-packages (from ipython>=6.1.0->ipywidgets<9,>=7.5.0->ipytablewidgets<0.4.0,>=0.3.0->vega) (5.1.1)\n",
      "Requirement already satisfied: jedi>=0.16 in /Users/hyemisong/.pyenv/versions/3.9.1/envs/savi-3.9.1-1/lib/python3.9/site-packages (from ipython>=6.1.0->ipywidgets<9,>=7.5.0->ipytablewidgets<0.4.0,>=0.3.0->vega) (0.19.1)\n",
      "Requirement already satisfied: stack-data in /Users/hyemisong/.pyenv/versions/3.9.1/envs/savi-3.9.1-1/lib/python3.9/site-packages (from ipython>=6.1.0->ipywidgets<9,>=7.5.0->ipytablewidgets<0.4.0,>=0.3.0->vega) (0.6.3)\n",
      "Requirement already satisfied: typing-extensions in /Users/hyemisong/.pyenv/versions/3.9.1/envs/savi-3.9.1-1/lib/python3.9/site-packages (from ipython>=6.1.0->ipywidgets<9,>=7.5.0->ipytablewidgets<0.4.0,>=0.3.0->vega) (4.9.0)\n",
      "Requirement already satisfied: exceptiongroup in /Users/hyemisong/.pyenv/versions/3.9.1/envs/savi-3.9.1-1/lib/python3.9/site-packages (from ipython>=6.1.0->ipywidgets<9,>=7.5.0->ipytablewidgets<0.4.0,>=0.3.0->vega) (1.2.0)\n",
      "Requirement already satisfied: pexpect>4.3 in /Users/hyemisong/.pyenv/versions/3.9.1/envs/savi-3.9.1-1/lib/python3.9/site-packages (from ipython>=6.1.0->ipywidgets<9,>=7.5.0->ipytablewidgets<0.4.0,>=0.3.0->vega) (4.9.0)\n",
      "Requirement already satisfied: platformdirs>=2.5 in /Users/hyemisong/.pyenv/versions/3.9.1/envs/savi-3.9.1-1/lib/python3.9/site-packages (from jupyter-core!=5.0.*,>=4.12->ipykernel->jupyter<2.0.0,>=1.0.0->vega) (4.2.0)\n",
      "Requirement already satisfied: anyio>=3.1.0 in /Users/hyemisong/.pyenv/versions/3.9.1/envs/savi-3.9.1-1/lib/python3.9/site-packages (from jupyter-server<3,>=2.4.0->notebook->jupyter<2.0.0,>=1.0.0->vega) (4.2.0)\n",
      "Requirement already satisfied: argon2-cffi in /Users/hyemisong/.pyenv/versions/3.9.1/envs/savi-3.9.1-1/lib/python3.9/site-packages (from jupyter-server<3,>=2.4.0->notebook->jupyter<2.0.0,>=1.0.0->vega) (23.1.0)\n",
      "Requirement already satisfied: jupyter-events>=0.9.0 in /Users/hyemisong/.pyenv/versions/3.9.1/envs/savi-3.9.1-1/lib/python3.9/site-packages (from jupyter-server<3,>=2.4.0->notebook->jupyter<2.0.0,>=1.0.0->vega) (0.9.0)\n",
      "Requirement already satisfied: jupyter-server-terminals in /Users/hyemisong/.pyenv/versions/3.9.1/envs/savi-3.9.1-1/lib/python3.9/site-packages (from jupyter-server<3,>=2.4.0->notebook->jupyter<2.0.0,>=1.0.0->vega) (0.5.2)\n",
      "Requirement already satisfied: overrides in /Users/hyemisong/.pyenv/versions/3.9.1/envs/savi-3.9.1-1/lib/python3.9/site-packages (from jupyter-server<3,>=2.4.0->notebook->jupyter<2.0.0,>=1.0.0->vega) (7.7.0)\n",
      "Requirement already satisfied: prometheus-client in /Users/hyemisong/.pyenv/versions/3.9.1/envs/savi-3.9.1-1/lib/python3.9/site-packages (from jupyter-server<3,>=2.4.0->notebook->jupyter<2.0.0,>=1.0.0->vega) (0.20.0)\n",
      "Requirement already satisfied: send2trash>=1.8.2 in /Users/hyemisong/.pyenv/versions/3.9.1/envs/savi-3.9.1-1/lib/python3.9/site-packages (from jupyter-server<3,>=2.4.0->notebook->jupyter<2.0.0,>=1.0.0->vega) (1.8.2)\n",
      "Requirement already satisfied: terminado>=0.8.3 in /Users/hyemisong/.pyenv/versions/3.9.1/envs/savi-3.9.1-1/lib/python3.9/site-packages (from jupyter-server<3,>=2.4.0->notebook->jupyter<2.0.0,>=1.0.0->vega) (0.18.0)\n",
      "Requirement already satisfied: websocket-client in /Users/hyemisong/.pyenv/versions/3.9.1/envs/savi-3.9.1-1/lib/python3.9/site-packages (from jupyter-server<3,>=2.4.0->notebook->jupyter<2.0.0,>=1.0.0->vega) (1.7.0)\n",
      "Requirement already satisfied: async-lru>=1.0.0 in /Users/hyemisong/.pyenv/versions/3.9.1/envs/savi-3.9.1-1/lib/python3.9/site-packages (from jupyterlab<4.2,>=4.1.1->notebook->jupyter<2.0.0,>=1.0.0->vega) (2.0.4)\n",
      "Requirement already satisfied: httpx>=0.25.0 in /Users/hyemisong/.pyenv/versions/3.9.1/envs/savi-3.9.1-1/lib/python3.9/site-packages (from jupyterlab<4.2,>=4.1.1->notebook->jupyter<2.0.0,>=1.0.0->vega) (0.26.0)\n",
      "Requirement already satisfied: jupyter-lsp>=2.0.0 in /Users/hyemisong/.pyenv/versions/3.9.1/envs/savi-3.9.1-1/lib/python3.9/site-packages (from jupyterlab<4.2,>=4.1.1->notebook->jupyter<2.0.0,>=1.0.0->vega) (2.2.2)\n",
      "Requirement already satisfied: tomli in /Users/hyemisong/.pyenv/versions/3.9.1/envs/savi-3.9.1-1/lib/python3.9/site-packages (from jupyterlab<4.2,>=4.1.1->notebook->jupyter<2.0.0,>=1.0.0->vega) (2.0.1)\n",
      "Requirement already satisfied: babel>=2.10 in /Users/hyemisong/.pyenv/versions/3.9.1/envs/savi-3.9.1-1/lib/python3.9/site-packages (from jupyterlab-server<3,>=2.22.1->notebook->jupyter<2.0.0,>=1.0.0->vega) (2.14.0)\n",
      "Requirement already satisfied: json5>=0.9.0 in /Users/hyemisong/.pyenv/versions/3.9.1/envs/savi-3.9.1-1/lib/python3.9/site-packages (from jupyterlab-server<3,>=2.22.1->notebook->jupyter<2.0.0,>=1.0.0->vega) (0.9.14)\n",
      "Requirement already satisfied: jsonschema>=4.18.0 in /Users/hyemisong/.pyenv/versions/3.9.1/envs/savi-3.9.1-1/lib/python3.9/site-packages (from jupyterlab-server<3,>=2.22.1->notebook->jupyter<2.0.0,>=1.0.0->vega) (4.21.1)\n",
      "Requirement already satisfied: requests>=2.31 in /Users/hyemisong/.pyenv/versions/3.9.1/envs/savi-3.9.1-1/lib/python3.9/site-packages (from jupyterlab-server<3,>=2.22.1->notebook->jupyter<2.0.0,>=1.0.0->vega) (2.31.0)\n",
      "Requirement already satisfied: fastjsonschema in /Users/hyemisong/.pyenv/versions/3.9.1/envs/savi-3.9.1-1/lib/python3.9/site-packages (from nbformat>=5.7->nbconvert->jupyter<2.0.0,>=1.0.0->vega) (2.19.1)\n",
      "Requirement already satisfied: wcwidth in /Users/hyemisong/.pyenv/versions/3.9.1/envs/savi-3.9.1-1/lib/python3.9/site-packages (from prompt-toolkit>=3.0.30->jupyter-console->jupyter<2.0.0,>=1.0.0->vega) (0.2.13)\n",
      "Requirement already satisfied: soupsieve>1.2 in /Users/hyemisong/.pyenv/versions/3.9.1/envs/savi-3.9.1-1/lib/python3.9/site-packages (from beautifulsoup4->nbconvert->jupyter<2.0.0,>=1.0.0->vega) (2.5)\n",
      "Requirement already satisfied: idna>=2.8 in /Users/hyemisong/.pyenv/versions/3.9.1/envs/savi-3.9.1-1/lib/python3.9/site-packages (from anyio>=3.1.0->jupyter-server<3,>=2.4.0->notebook->jupyter<2.0.0,>=1.0.0->vega) (3.6)\n",
      "Requirement already satisfied: sniffio>=1.1 in /Users/hyemisong/.pyenv/versions/3.9.1/envs/savi-3.9.1-1/lib/python3.9/site-packages (from anyio>=3.1.0->jupyter-server<3,>=2.4.0->notebook->jupyter<2.0.0,>=1.0.0->vega) (1.3.0)\n",
      "Requirement already satisfied: certifi in /Users/hyemisong/.pyenv/versions/3.9.1/envs/savi-3.9.1-1/lib/python3.9/site-packages (from httpx>=0.25.0->jupyterlab<4.2,>=4.1.1->notebook->jupyter<2.0.0,>=1.0.0->vega) (2024.2.2)\n",
      "Requirement already satisfied: httpcore==1.* in /Users/hyemisong/.pyenv/versions/3.9.1/envs/savi-3.9.1-1/lib/python3.9/site-packages (from httpx>=0.25.0->jupyterlab<4.2,>=4.1.1->notebook->jupyter<2.0.0,>=1.0.0->vega) (1.0.3)\n",
      "Requirement already satisfied: h11<0.15,>=0.13 in /Users/hyemisong/.pyenv/versions/3.9.1/envs/savi-3.9.1-1/lib/python3.9/site-packages (from httpcore==1.*->httpx>=0.25.0->jupyterlab<4.2,>=4.1.1->notebook->jupyter<2.0.0,>=1.0.0->vega) (0.14.0)\n",
      "Requirement already satisfied: parso<0.9.0,>=0.8.3 in /Users/hyemisong/.pyenv/versions/3.9.1/envs/savi-3.9.1-1/lib/python3.9/site-packages (from jedi>=0.16->ipython>=6.1.0->ipywidgets<9,>=7.5.0->ipytablewidgets<0.4.0,>=0.3.0->vega) (0.8.3)\n",
      "Requirement already satisfied: attrs>=22.2.0 in /Users/hyemisong/.pyenv/versions/3.9.1/envs/savi-3.9.1-1/lib/python3.9/site-packages (from jsonschema>=4.18.0->jupyterlab-server<3,>=2.22.1->notebook->jupyter<2.0.0,>=1.0.0->vega) (23.2.0)\n",
      "Requirement already satisfied: jsonschema-specifications>=2023.03.6 in /Users/hyemisong/.pyenv/versions/3.9.1/envs/savi-3.9.1-1/lib/python3.9/site-packages (from jsonschema>=4.18.0->jupyterlab-server<3,>=2.22.1->notebook->jupyter<2.0.0,>=1.0.0->vega) (2023.12.1)\n",
      "Requirement already satisfied: referencing>=0.28.4 in /Users/hyemisong/.pyenv/versions/3.9.1/envs/savi-3.9.1-1/lib/python3.9/site-packages (from jsonschema>=4.18.0->jupyterlab-server<3,>=2.22.1->notebook->jupyter<2.0.0,>=1.0.0->vega) (0.33.0)\n",
      "Requirement already satisfied: rpds-py>=0.7.1 in /Users/hyemisong/.pyenv/versions/3.9.1/envs/savi-3.9.1-1/lib/python3.9/site-packages (from jsonschema>=4.18.0->jupyterlab-server<3,>=2.22.1->notebook->jupyter<2.0.0,>=1.0.0->vega) (0.18.0)\n",
      "Requirement already satisfied: python-json-logger>=2.0.4 in /Users/hyemisong/.pyenv/versions/3.9.1/envs/savi-3.9.1-1/lib/python3.9/site-packages (from jupyter-events>=0.9.0->jupyter-server<3,>=2.4.0->notebook->jupyter<2.0.0,>=1.0.0->vega) (2.0.7)\n",
      "Requirement already satisfied: pyyaml>=5.3 in /Users/hyemisong/.pyenv/versions/3.9.1/envs/savi-3.9.1-1/lib/python3.9/site-packages (from jupyter-events>=0.9.0->jupyter-server<3,>=2.4.0->notebook->jupyter<2.0.0,>=1.0.0->vega) (6.0.1)\n",
      "Requirement already satisfied: rfc3339-validator in /Users/hyemisong/.pyenv/versions/3.9.1/envs/savi-3.9.1-1/lib/python3.9/site-packages (from jupyter-events>=0.9.0->jupyter-server<3,>=2.4.0->notebook->jupyter<2.0.0,>=1.0.0->vega) (0.1.4)\n",
      "Requirement already satisfied: rfc3986-validator>=0.1.1 in /Users/hyemisong/.pyenv/versions/3.9.1/envs/savi-3.9.1-1/lib/python3.9/site-packages (from jupyter-events>=0.9.0->jupyter-server<3,>=2.4.0->notebook->jupyter<2.0.0,>=1.0.0->vega) (0.1.1)\n",
      "Requirement already satisfied: ptyprocess>=0.5 in /Users/hyemisong/.pyenv/versions/3.9.1/envs/savi-3.9.1-1/lib/python3.9/site-packages (from pexpect>4.3->ipython>=6.1.0->ipywidgets<9,>=7.5.0->ipytablewidgets<0.4.0,>=0.3.0->vega) (0.7.0)\n",
      "Requirement already satisfied: charset-normalizer<4,>=2 in /Users/hyemisong/.pyenv/versions/3.9.1/envs/savi-3.9.1-1/lib/python3.9/site-packages (from requests>=2.31->jupyterlab-server<3,>=2.22.1->notebook->jupyter<2.0.0,>=1.0.0->vega) (3.3.2)\n",
      "Requirement already satisfied: urllib3<3,>=1.21.1 in /Users/hyemisong/.pyenv/versions/3.9.1/envs/savi-3.9.1-1/lib/python3.9/site-packages (from requests>=2.31->jupyterlab-server<3,>=2.22.1->notebook->jupyter<2.0.0,>=1.0.0->vega) (2.2.1)\n",
      "Requirement already satisfied: argon2-cffi-bindings in /Users/hyemisong/.pyenv/versions/3.9.1/envs/savi-3.9.1-1/lib/python3.9/site-packages (from argon2-cffi->jupyter-server<3,>=2.4.0->notebook->jupyter<2.0.0,>=1.0.0->vega) (21.2.0)\n",
      "Requirement already satisfied: executing>=1.2.0 in /Users/hyemisong/.pyenv/versions/3.9.1/envs/savi-3.9.1-1/lib/python3.9/site-packages (from stack-data->ipython>=6.1.0->ipywidgets<9,>=7.5.0->ipytablewidgets<0.4.0,>=0.3.0->vega) (2.0.1)\n",
      "Requirement already satisfied: asttokens>=2.1.0 in /Users/hyemisong/.pyenv/versions/3.9.1/envs/savi-3.9.1-1/lib/python3.9/site-packages (from stack-data->ipython>=6.1.0->ipywidgets<9,>=7.5.0->ipytablewidgets<0.4.0,>=0.3.0->vega) (2.4.1)\n",
      "Requirement already satisfied: pure-eval in /Users/hyemisong/.pyenv/versions/3.9.1/envs/savi-3.9.1-1/lib/python3.9/site-packages (from stack-data->ipython>=6.1.0->ipywidgets<9,>=7.5.0->ipytablewidgets<0.4.0,>=0.3.0->vega) (0.2.2)\n",
      "Requirement already satisfied: fqdn in /Users/hyemisong/.pyenv/versions/3.9.1/envs/savi-3.9.1-1/lib/python3.9/site-packages (from jsonschema[format-nongpl]>=4.18.0->jupyter-events>=0.9.0->jupyter-server<3,>=2.4.0->notebook->jupyter<2.0.0,>=1.0.0->vega) (1.5.1)\n",
      "Requirement already satisfied: isoduration in /Users/hyemisong/.pyenv/versions/3.9.1/envs/savi-3.9.1-1/lib/python3.9/site-packages (from jsonschema[format-nongpl]>=4.18.0->jupyter-events>=0.9.0->jupyter-server<3,>=2.4.0->notebook->jupyter<2.0.0,>=1.0.0->vega) (20.11.0)\n",
      "Requirement already satisfied: jsonpointer>1.13 in /Users/hyemisong/.pyenv/versions/3.9.1/envs/savi-3.9.1-1/lib/python3.9/site-packages (from jsonschema[format-nongpl]>=4.18.0->jupyter-events>=0.9.0->jupyter-server<3,>=2.4.0->notebook->jupyter<2.0.0,>=1.0.0->vega) (2.4)\n",
      "Requirement already satisfied: uri-template in /Users/hyemisong/.pyenv/versions/3.9.1/envs/savi-3.9.1-1/lib/python3.9/site-packages (from jsonschema[format-nongpl]>=4.18.0->jupyter-events>=0.9.0->jupyter-server<3,>=2.4.0->notebook->jupyter<2.0.0,>=1.0.0->vega) (1.3.0)\n",
      "Requirement already satisfied: webcolors>=1.11 in /Users/hyemisong/.pyenv/versions/3.9.1/envs/savi-3.9.1-1/lib/python3.9/site-packages (from jsonschema[format-nongpl]>=4.18.0->jupyter-events>=0.9.0->jupyter-server<3,>=2.4.0->notebook->jupyter<2.0.0,>=1.0.0->vega) (1.13)\n",
      "Requirement already satisfied: cffi>=1.0.1 in /Users/hyemisong/.pyenv/versions/3.9.1/envs/savi-3.9.1-1/lib/python3.9/site-packages (from argon2-cffi-bindings->argon2-cffi->jupyter-server<3,>=2.4.0->notebook->jupyter<2.0.0,>=1.0.0->vega) (1.16.0)\n",
      "Requirement already satisfied: pycparser in /Users/hyemisong/.pyenv/versions/3.9.1/envs/savi-3.9.1-1/lib/python3.9/site-packages (from cffi>=1.0.1->argon2-cffi-bindings->argon2-cffi->jupyter-server<3,>=2.4.0->notebook->jupyter<2.0.0,>=1.0.0->vega) (2.21)\n",
      "Requirement already satisfied: arrow>=0.15.0 in /Users/hyemisong/.pyenv/versions/3.9.1/envs/savi-3.9.1-1/lib/python3.9/site-packages (from isoduration->jsonschema[format-nongpl]>=4.18.0->jupyter-events>=0.9.0->jupyter-server<3,>=2.4.0->notebook->jupyter<2.0.0,>=1.0.0->vega) (1.3.0)\n",
      "Requirement already satisfied: types-python-dateutil>=2.8.10 in /Users/hyemisong/.pyenv/versions/3.9.1/envs/savi-3.9.1-1/lib/python3.9/site-packages (from arrow>=0.15.0->isoduration->jsonschema[format-nongpl]>=4.18.0->jupyter-events>=0.9.0->jupyter-server<3,>=2.4.0->notebook->jupyter<2.0.0,>=1.0.0->vega) (2.8.19.20240106)\n"
     ]
    }
   ],
   "source": [
    "!pip install pandas\n",
    "!pip install vega\n"
   ]
  },
  {
   "cell_type": "code",
   "execution_count": 6,
   "metadata": {
    "ExecuteTime": {
     "end_time": "2021-12-23T13:01:41.120052Z",
     "start_time": "2021-12-23T13:01:41.018687Z"
    }
   },
   "outputs": [],
   "source": [
    "from Sevi import Sevi"
   ]
  },
  {
   "cell_type": "code",
   "execution_count": 7,
   "metadata": {
    "ExecuteTime": {
     "end_time": "2021-12-23T13:01:45.234558Z",
     "start_time": "2021-12-23T13:01:41.429841Z"
    },
    "scrolled": true
   },
   "outputs": [],
   "source": [
    "sevi = Sevi(trained_model='./save_models/trained_model.pt')"
   ]
  },
  {
   "cell_type": "code",
   "execution_count": 8,
   "metadata": {
    "ExecuteTime": {
     "end_time": "2021-12-23T12:34:49.553068Z",
     "start_time": "2021-12-23T12:34:49.474191Z"
    }
   },
   "outputs": [
    {
     "name": "stdout",
     "output_type": "stream",
     "text": [
      "error.\n",
      "error.\n",
      "error.\n",
      "error.\n",
      "error.\n"
     ]
    }
   ],
   "source": [
    "sevi.specify_dataset(\n",
    "    data_type = 'csv',\n",
    "    table_name = 'nba_players',\n",
    "    data_url= './dataset/database/nba/nba_players.csv'\n",
    ")"
   ]
  },
  {
   "cell_type": "code",
   "execution_count": 9,
   "metadata": {
    "ExecuteTime": {
     "end_time": "2021-12-23T12:34:49.573117Z",
     "start_time": "2021-12-23T12:34:49.555540Z"
    }
   },
   "outputs": [
    {
     "data": {
      "text/html": [
       "<div>\n",
       "<style scoped>\n",
       "    .dataframe tbody tr th:only-of-type {\n",
       "        vertical-align: middle;\n",
       "    }\n",
       "\n",
       "    .dataframe tbody tr th {\n",
       "        vertical-align: top;\n",
       "    }\n",
       "\n",
       "    .dataframe thead th {\n",
       "        text-align: right;\n",
       "    }\n",
       "</style>\n",
       "<table border=\"1\" class=\"dataframe\">\n",
       "  <thead>\n",
       "    <tr style=\"text-align: right;\">\n",
       "      <th></th>\n",
       "      <th>player</th>\n",
       "      <th>height1</th>\n",
       "      <th>height2</th>\n",
       "      <th>weight1</th>\n",
       "      <th>weight2</th>\n",
       "      <th>birthday</th>\n",
       "      <th>birthplace</th>\n",
       "      <th>team</th>\n",
       "      <th>nba_first_year</th>\n",
       "      <th>nba_last_year</th>\n",
       "      <th>position</th>\n",
       "      <th>shot</th>\n",
       "      <th>college</th>\n",
       "      <th>#games</th>\n",
       "      <th>points</th>\n",
       "      <th>totalrebounds</th>\n",
       "      <th>#asists</th>\n",
       "      <th>fieldgoals%</th>\n",
       "      <th>3-pointfieldgoals%</th>\n",
       "      <th>freethrow%</th>\n",
       "    </tr>\n",
       "  </thead>\n",
       "  <tbody>\n",
       "    <tr>\n",
       "      <th>0</th>\n",
       "      <td>Kelenna Azubuike</td>\n",
       "      <td>196cm</td>\n",
       "      <td>6-5</td>\n",
       "      <td>99kg</td>\n",
       "      <td>220lb</td>\n",
       "      <td>December 16,1983</td>\n",
       "      <td>United Kingdom</td>\n",
       "      <td>NaN</td>\n",
       "      <td>2007</td>\n",
       "      <td>2012</td>\n",
       "      <td>Small Forward and Shooting Guard</td>\n",
       "      <td>Right</td>\n",
       "      <td>University of Kentucky</td>\n",
       "      <td>208</td>\n",
       "      <td>10.5</td>\n",
       "      <td>4.0</td>\n",
       "      <td>1.1</td>\n",
       "      <td>45.9</td>\n",
       "      <td>40.9</td>\n",
       "      <td>77.0</td>\n",
       "    </tr>\n",
       "    <tr>\n",
       "      <th>1</th>\n",
       "      <td>Michael Bytzura</td>\n",
       "      <td>185cm</td>\n",
       "      <td>6-1</td>\n",
       "      <td>77kg</td>\n",
       "      <td>170lb</td>\n",
       "      <td>June 18,1922</td>\n",
       "      <td>NaN</td>\n",
       "      <td>NaN</td>\n",
       "      <td>1947</td>\n",
       "      <td>1947</td>\n",
       "      <td>Forward</td>\n",
       "      <td>Right</td>\n",
       "      <td>Long Island University</td>\n",
       "      <td>60</td>\n",
       "      <td>3.5</td>\n",
       "      <td>-</td>\n",
       "      <td>0.5</td>\n",
       "      <td>24.4</td>\n",
       "      <td>NaN</td>\n",
       "      <td>50.0</td>\n",
       "    </tr>\n",
       "    <tr>\n",
       "      <th>2</th>\n",
       "      <td>Rastko Cvetkovic</td>\n",
       "      <td>216cm</td>\n",
       "      <td>7-1</td>\n",
       "      <td>117kg</td>\n",
       "      <td>260lb</td>\n",
       "      <td>June 22,1970</td>\n",
       "      <td>Serbia</td>\n",
       "      <td>NaN</td>\n",
       "      <td>1996</td>\n",
       "      <td>1996</td>\n",
       "      <td>Center</td>\n",
       "      <td>Right</td>\n",
       "      <td>NaN</td>\n",
       "      <td>14</td>\n",
       "      <td>0.7</td>\n",
       "      <td>0.8</td>\n",
       "      <td>0.2</td>\n",
       "      <td>31.3</td>\n",
       "      <td>0.0</td>\n",
       "      <td>0.0</td>\n",
       "    </tr>\n",
       "  </tbody>\n",
       "</table>\n",
       "</div>"
      ],
      "text/plain": [
       "             player height1 height2 weight1 weight2          birthday  \\\n",
       "0  Kelenna Azubuike   196cm     6-5    99kg   220lb  December 16,1983   \n",
       "1   Michael Bytzura   185cm     6-1    77kg   170lb      June 18,1922   \n",
       "2  Rastko Cvetkovic   216cm     7-1   117kg   260lb      June 22,1970   \n",
       "\n",
       "       birthplace team  nba_first_year  nba_last_year  \\\n",
       "0  United Kingdom  NaN            2007           2012   \n",
       "1             NaN  NaN            1947           1947   \n",
       "2          Serbia  NaN            1996           1996   \n",
       "\n",
       "                           position   shot                 college  #games  \\\n",
       "0  Small Forward and Shooting Guard  Right  University of Kentucky     208   \n",
       "1                           Forward  Right  Long Island University      60   \n",
       "2                            Center  Right                     NaN      14   \n",
       "\n",
       "   points totalrebounds  #asists fieldgoals% 3-pointfieldgoals% freethrow%  \n",
       "0    10.5           4.0      1.1        45.9               40.9       77.0  \n",
       "1     3.5             -      0.5        24.4                NaN       50.0  \n",
       "2     0.7           0.8      0.2        31.3                0.0        0.0  "
      ]
     },
     "execution_count": 9,
     "metadata": {},
     "output_type": "execute_result"
    }
   ],
   "source": [
    "sevi.show_dataset(top_rows=3)"
   ]
  },
  {
   "cell_type": "markdown",
   "metadata": {},
   "source": [
    "## get the input speech by recording it in the Jupyter Notebook"
   ]
  },
  {
   "cell_type": "code",
   "execution_count": 10,
   "metadata": {
    "ExecuteTime": {
     "end_time": "2021-09-16T05:33:11.748123Z",
     "start_time": "2021-09-16T05:32:58.606394Z"
    },
    "scrolled": true
   },
   "outputs": [
    {
     "name": "stdout",
     "output_type": "stream",
     "text": [
      "End recording...\n"
     ]
    },
    {
     "data": {
      "text/html": [
       "<img style=\"width:100px\", src=\"./img/loading.gif\">"
      ],
      "text/plain": [
       "<IPython.core.display.HTML object>"
      ]
     },
     "metadata": {},
     "output_type": "display_data"
    },
    {
     "name": "stdout",
     "output_type": "stream",
     "text": [
      "Sevi could not understand audio\n",
      "mark bar data nba_players encoding x county y aggregate count result transform group x\n"
     ]
    },
    {
     "data": {
      "text/html": [
       "\n",
       "                <!DOCTYPE html>\n",
       "                <html>\n",
       "                <head>\n",
       "                <title>Vega-Lite Chart</title>\n",
       "                <script src=\"https://cdn.jsdelivr.net/npm/vega@5\"></script>\n",
       "                <script src=\"https://cdn.jsdelivr.net/npm/vega-lite@5\"></script>\n",
       "                <script src=\"https://cdn.jsdelivr.net/npm/vega-embed@6\"></script>\n",
       "                </head>\n",
       "                <body>\n",
       "                <div id=\"vis\"></div>\n",
       "                <script type=\"text/javascript\">\n",
       "                    var spec = \"mark bar data nba_players encoding x county y aggregate count result transform group x\";\n",
       "                    vegaEmbed('#vis', spec);\n",
       "                </script>\n",
       "                </body>\n",
       "                </html>\n",
       "                "
      ],
      "text/plain": [
       "<IPython.core.display.HTML object>"
      ]
     },
     "metadata": {},
     "output_type": "display_data"
    }
   ],
   "source": [
    "sevi.speech2vis()"
   ]
  },
  {
   "cell_type": "markdown",
   "metadata": {},
   "source": [
    "## get the audio from the file"
   ]
  },
  {
   "cell_type": "code",
   "execution_count": 11,
   "metadata": {},
   "outputs": [
    {
     "name": "stdout",
     "output_type": "stream",
     "text": [
      "Sevi thinks you said: show me a picture of the proportion of shot\n",
      "mark arc data nba_players encoding x shot y aggregate count shot transform group x\n"
     ]
    },
    {
     "data": {
      "text/html": [
       "\n",
       "                <!DOCTYPE html>\n",
       "                <html>\n",
       "                <head>\n",
       "                <title>Vega-Lite Chart</title>\n",
       "                <script src=\"https://cdn.jsdelivr.net/npm/vega@5\"></script>\n",
       "                <script src=\"https://cdn.jsdelivr.net/npm/vega-lite@5\"></script>\n",
       "                <script src=\"https://cdn.jsdelivr.net/npm/vega-embed@6\"></script>\n",
       "                </head>\n",
       "                <body>\n",
       "                <div id=\"vis\"></div>\n",
       "                <script type=\"text/javascript\">\n",
       "                    var spec = \"mark arc data nba_players encoding x shot y aggregate count shot transform group x\";\n",
       "                    vegaEmbed('#vis', spec);\n",
       "                </script>\n",
       "                </body>\n",
       "                </html>\n",
       "                "
      ],
      "text/plain": [
       "<IPython.core.display.HTML object>"
      ]
     },
     "metadata": {},
     "output_type": "display_data"
    }
   ],
   "source": [
    "sevi.speech2vis('./speech/17.wav')"
   ]
  },
  {
   "cell_type": "code",
   "execution_count": 12,
   "metadata": {},
   "outputs": [
    {
     "name": "stdout",
     "output_type": "stream",
     "text": [
      "Sevi thinks you said: a line chart of field goal percentage by position\n",
      "mark line data nba_players encoding x position y aggregate count position transform group x\n"
     ]
    },
    {
     "data": {
      "text/html": [
       "\n",
       "                <!DOCTYPE html>\n",
       "                <html>\n",
       "                <head>\n",
       "                <title>Vega-Lite Chart</title>\n",
       "                <script src=\"https://cdn.jsdelivr.net/npm/vega@5\"></script>\n",
       "                <script src=\"https://cdn.jsdelivr.net/npm/vega-lite@5\"></script>\n",
       "                <script src=\"https://cdn.jsdelivr.net/npm/vega-embed@6\"></script>\n",
       "                </head>\n",
       "                <body>\n",
       "                <div id=\"vis\"></div>\n",
       "                <script type=\"text/javascript\">\n",
       "                    var spec = \"mark line data nba_players encoding x position y aggregate count position transform group x\";\n",
       "                    vegaEmbed('#vis', spec);\n",
       "                </script>\n",
       "                </body>\n",
       "                </html>\n",
       "                "
      ],
      "text/plain": [
       "<IPython.core.display.HTML object>"
      ]
     },
     "metadata": {},
     "output_type": "display_data"
    }
   ],
   "source": [
    "sevi.speech2vis('./speech/14.wav')"
   ]
  },
  {
   "cell_type": "code",
   "execution_count": 13,
   "metadata": {},
   "outputs": [
    {
     "name": "stdout",
     "output_type": "stream",
     "text": [
      "Sevi thinks you said: show me a bar chart of the number of players per position\n",
      "mark bar data nba_players encoding x position y aggregate count position transform group x\n"
     ]
    },
    {
     "data": {
      "text/html": [
       "\n",
       "                <!DOCTYPE html>\n",
       "                <html>\n",
       "                <head>\n",
       "                <title>Vega-Lite Chart</title>\n",
       "                <script src=\"https://cdn.jsdelivr.net/npm/vega@5\"></script>\n",
       "                <script src=\"https://cdn.jsdelivr.net/npm/vega-lite@5\"></script>\n",
       "                <script src=\"https://cdn.jsdelivr.net/npm/vega-embed@6\"></script>\n",
       "                </head>\n",
       "                <body>\n",
       "                <div id=\"vis\"></div>\n",
       "                <script type=\"text/javascript\">\n",
       "                    var spec = \"mark bar data nba_players encoding x position y aggregate count position transform group x\";\n",
       "                    vegaEmbed('#vis', spec);\n",
       "                </script>\n",
       "                </body>\n",
       "                </html>\n",
       "                "
      ],
      "text/plain": [
       "<IPython.core.display.HTML object>"
      ]
     },
     "metadata": {},
     "output_type": "display_data"
    }
   ],
   "source": [
    "sevi.speech2vis('./speech/16.wav')"
   ]
  },
  {
   "cell_type": "code",
   "execution_count": 14,
   "metadata": {},
   "outputs": [
    {
     "name": "stdout",
     "output_type": "stream",
     "text": [
      "Sevi thinks you said: show me a picture of the proportion of shot\n",
      "mark arc data nba_players encoding x shot y aggregate count shot transform group x\n"
     ]
    },
    {
     "data": {
      "text/html": [
       "\n",
       "                <!DOCTYPE html>\n",
       "                <html>\n",
       "                <head>\n",
       "                <title>Vega-Lite Chart</title>\n",
       "                <script src=\"https://cdn.jsdelivr.net/npm/vega@5\"></script>\n",
       "                <script src=\"https://cdn.jsdelivr.net/npm/vega-lite@5\"></script>\n",
       "                <script src=\"https://cdn.jsdelivr.net/npm/vega-embed@6\"></script>\n",
       "                </head>\n",
       "                <body>\n",
       "                <div id=\"vis\"></div>\n",
       "                <script type=\"text/javascript\">\n",
       "                    var spec = \"mark arc data nba_players encoding x shot y aggregate count shot transform group x\";\n",
       "                    vegaEmbed('#vis', spec);\n",
       "                </script>\n",
       "                </body>\n",
       "                </html>\n",
       "                "
      ],
      "text/plain": [
       "<IPython.core.display.HTML object>"
      ]
     },
     "metadata": {},
     "output_type": "display_data"
    }
   ],
   "source": [
    "sevi.speech2vis('./speech/17.wav')"
   ]
  },
  {
   "cell_type": "markdown",
   "metadata": {},
   "source": [
    "## Perform Text-to-VIS"
   ]
  },
  {
   "cell_type": "code",
   "execution_count": 15,
   "metadata": {
    "scrolled": true
   },
   "outputs": [
    {
     "name": "stdout",
     "output_type": "stream",
     "text": [
      "mark bar data nba_players encoding x height2 y aggregate count height2 transform group x\n"
     ]
    },
    {
     "data": {
      "text/html": [
       "\n",
       "                <!DOCTYPE html>\n",
       "                <html>\n",
       "                <head>\n",
       "                <title>Vega-Lite Chart</title>\n",
       "                <script src=\"https://cdn.jsdelivr.net/npm/vega@5\"></script>\n",
       "                <script src=\"https://cdn.jsdelivr.net/npm/vega-lite@5\"></script>\n",
       "                <script src=\"https://cdn.jsdelivr.net/npm/vega-embed@6\"></script>\n",
       "                </head>\n",
       "                <body>\n",
       "                <div id=\"vis\"></div>\n",
       "                <script type=\"text/javascript\">\n",
       "                    var spec = \"mark bar data nba_players encoding x height2 y aggregate count height2 transform group x\";\n",
       "                    vegaEmbed('#vis', spec);\n",
       "                </script>\n",
       "                </body>\n",
       "                </html>\n",
       "                "
      ],
      "text/plain": [
       "<IPython.core.display.HTML object>"
      ]
     },
     "metadata": {},
     "output_type": "display_data"
    },
    {
     "ename": "TypeError",
     "evalue": "'NoneType' object is not subscriptable",
     "output_type": "error",
     "traceback": [
      "\u001b[0;31m---------------------------------------------------------------------------\u001b[0m",
      "\u001b[0;31mTypeError\u001b[0m                                 Traceback (most recent call last)",
      "Cell \u001b[0;32mIn[15], line 1\u001b[0m\n\u001b[0;32m----> 1\u001b[0m \u001b[43msevi\u001b[49m\u001b[38;5;241;43m.\u001b[39;49m\u001b[43mnl2vis\u001b[49m\u001b[43m(\u001b[49m\u001b[38;5;124;43m\"\u001b[39;49m\u001b[38;5;124;43ma bar chart showing the proportion of players by height2\u001b[39;49m\u001b[38;5;124;43m\"\u001b[39;49m\u001b[43m)\u001b[49m\u001b[43m[\u001b[49m\u001b[38;5;241;43m0\u001b[39;49m\u001b[43m]\u001b[49m\n",
      "\u001b[0;31mTypeError\u001b[0m: 'NoneType' object is not subscriptable"
     ]
    }
   ],
   "source": [
    "sevi.nl2vis(\"a bar chart showing the proportion of players by height2\")[0]"
   ]
  },
  {
   "cell_type": "code",
   "execution_count": null,
   "metadata": {},
   "outputs": [],
   "source": [
    "sevi.nl2vis(\n",
    "    nl_question= \"a bar chart of field goal percentage by position, sort y in descending order\"\n",
    ")[0]"
   ]
  },
  {
   "cell_type": "code",
   "execution_count": null,
   "metadata": {},
   "outputs": [],
   "source": [
    "sevi.nl2vis(\n",
    "    nl_question= \"show me the proportion of shot\",\n",
    "    chart_template={\n",
    "        'chart': 'line'\n",
    "    }\n",
    ")[0]"
   ]
  },
  {
   "cell_type": "code",
   "execution_count": null,
   "metadata": {
    "scrolled": true
   },
   "outputs": [],
   "source": [
    "sevi.nl2vis(\n",
    "    nl_question= \"show me the proportion of shot\",\n",
    "    chart_template={\n",
    "        'chart': 'arc'\n",
    "    }\n",
    ")[0]"
   ]
  },
  {
   "cell_type": "code",
   "execution_count": null,
   "metadata": {
    "scrolled": true
   },
   "outputs": [],
   "source": [
    "sevi.nl2vis(\n",
    "    nl_question= \"show me the proportion of shot\",\n",
    "    chart_template={\n",
    "        'chart': 'bar'\n",
    "    }\n",
    ")[0]"
   ]
  },
  {
   "cell_type": "code",
   "execution_count": null,
   "metadata": {},
   "outputs": [],
   "source": [
    "sevi.nl2vis(\n",
    "    nl_question=\"average points by shot\"\n",
    ")[0]"
   ]
  },
  {
   "cell_type": "code",
   "execution_count": null,
   "metadata": {},
   "outputs": [],
   "source": [
    "sevi.nl2vis(\n",
    "    nl_question=\"average points by shot, sort y desc\"\n",
    ")[0]"
   ]
  },
  {
   "cell_type": "code",
   "execution_count": null,
   "metadata": {
    "ExecuteTime": {
     "end_time": "2021-12-23T12:35:02.077294Z",
     "start_time": "2021-12-23T12:35:01.512753Z"
    }
   },
   "outputs": [],
   "source": [
    "sevi.nl2vis(\n",
    "    nl_question=\"show me a scatter plot to show the points distribution\"\n",
    ")[0]"
   ]
  },
  {
   "cell_type": "code",
   "execution_count": null,
   "metadata": {
    "ExecuteTime": {
     "end_time": "2021-12-23T12:35:05.963460Z",
     "start_time": "2021-12-23T12:35:05.494945Z"
    }
   },
   "outputs": [],
   "source": [
    "sevi.nl2vis(\n",
    "    nl_question=\"show me a plot to the average points by team, and order y in desc\"\n",
    ")[0]"
   ]
  },
  {
   "cell_type": "code",
   "execution_count": null,
   "metadata": {
    "ExecuteTime": {
     "end_time": "2021-12-23T12:35:07.830391Z",
     "start_time": "2021-12-23T12:35:07.349952Z"
    }
   },
   "outputs": [],
   "source": [
    "sevi.nl2vis(\n",
    "    nl_question=\"show me a plot to the average points by team, and sort y in desc with top 3 reults\",\n",
    "    chart_template={'chart': 'bar'}\n",
    ")[0]"
   ]
  },
  {
   "cell_type": "code",
   "execution_count": null,
   "metadata": {
    "ExecuteTime": {
     "end_time": "2021-12-23T12:35:11.134930Z",
     "start_time": "2021-12-23T12:35:11.119041Z"
    }
   },
   "outputs": [],
   "source": [
    "sevi.show_dataset()"
   ]
  },
  {
   "cell_type": "code",
   "execution_count": null,
   "metadata": {
    "ExecuteTime": {
     "end_time": "2021-12-23T12:35:23.900006Z",
     "start_time": "2021-12-23T12:35:23.762439Z"
    }
   },
   "outputs": [],
   "source": [
    "# The data type must be one of the csv, json, sqlite3, or a DataFrame object.\n",
    "# example of read a table from sqlite3\n",
    "sevi.specify_dataset(\n",
    "    data_type='sqlite3',\n",
    "    db_url='./dataset/database/car_1/car_1.sqlite',\n",
    "    table_name='cars_data'\n",
    ")"
   ]
  },
  {
   "cell_type": "code",
   "execution_count": null,
   "metadata": {
    "ExecuteTime": {
     "end_time": "2021-12-23T12:35:27.366060Z",
     "start_time": "2021-12-23T12:35:27.355688Z"
    },
    "scrolled": true
   },
   "outputs": [],
   "source": [
    "sevi.show_dataset(top_rows=3) # top_rows: default 5"
   ]
  },
  {
   "cell_type": "code",
   "execution_count": null,
   "metadata": {
    "ExecuteTime": {
     "end_time": "2021-12-23T12:35:36.454169Z",
     "start_time": "2021-12-23T12:35:36.334248Z"
    },
    "scrolled": true
   },
   "outputs": [],
   "source": [
    "sevi.nl2vis(\n",
    "    nl_question='What is the average weight and year for each year. Plot them as line chart.',\n",
    "    show_progress = True\n",
    ")[0] # nl2vis will return a list a [Vis, VegaLiteSpec]"
   ]
  },
  {
   "cell_type": "code",
   "execution_count": null,
   "metadata": {
    "ExecuteTime": {
     "end_time": "2021-12-23T12:35:41.885015Z",
     "start_time": "2021-12-23T12:35:41.762627Z"
    }
   },
   "outputs": [],
   "source": [
    "sevi.nl2vis(\n",
    "    nl_question='how many cars by year',\n",
    "    chart_template=None\n",
    ")[0] # nl2vis will return a list a [Vis, VegaLiteSpec]"
   ]
  },
  {
   "cell_type": "code",
   "execution_count": null,
   "metadata": {
    "ExecuteTime": {
     "end_time": "2021-12-23T12:35:44.654344Z",
     "start_time": "2021-12-23T12:35:44.499066Z"
    }
   },
   "outputs": [],
   "source": [
    "sevi.nl2vis(\n",
    "    nl_question='how many cars by year',\n",
    "    chart_template={\n",
    "        'chart': 'bar',\n",
    "        'sorting_options': {\n",
    "            'axis': 'y',\n",
    "            'type': 'asc'\n",
    "        }\n",
    "    }\n",
    ")[0] # nl2vis will return a list a [Vis, VegaLiteSpec]"
   ]
  },
  {
   "cell_type": "code",
   "execution_count": null,
   "metadata": {
    "ExecuteTime": {
     "end_time": "2021-12-23T12:36:10.720597Z",
     "start_time": "2021-12-23T12:36:10.633503Z"
    }
   },
   "outputs": [],
   "source": [
    "sevi.specify_dataset(\n",
    "    data_type = 'csv',\n",
    "    table_name = 'nba_players',\n",
    "    data_url= './dataset/database/nba/nba_players.csv'\n",
    ")\n",
    "\n",
    "sevi.show_dataset()"
   ]
  },
  {
   "cell_type": "code",
   "execution_count": null,
   "metadata": {
    "ExecuteTime": {
     "end_time": "2021-12-23T12:36:17.373001Z",
     "start_time": "2021-12-23T12:36:16.916243Z"
    }
   },
   "outputs": [],
   "source": [
    "sevi.nl2vis(\"a bar chart showing the proportion of players by height2\")[0]"
   ]
  },
  {
   "cell_type": "code",
   "execution_count": null,
   "metadata": {
    "ExecuteTime": {
     "end_time": "2021-12-23T12:37:22.518651Z",
     "start_time": "2021-12-23T12:37:22.018468Z"
    }
   },
   "outputs": [],
   "source": [
    "sevi.nl2vis(\"show the results of players by height2\")[0]"
   ]
  },
  {
   "cell_type": "code",
   "execution_count": null,
   "metadata": {
    "ExecuteTime": {
     "end_time": "2021-12-23T12:37:24.287179Z",
     "start_time": "2021-12-23T12:37:23.827937Z"
    }
   },
   "outputs": [],
   "source": [
    "sevi.nl2vis(\"a pie chart showing the proportion of players by birthplace\")[0]"
   ]
  },
  {
   "cell_type": "code",
   "execution_count": null,
   "metadata": {
    "ExecuteTime": {
     "end_time": "2021-12-23T12:37:30.415861Z",
     "start_time": "2021-12-23T12:37:29.929271Z"
    }
   },
   "outputs": [],
   "source": [
    "sevi.nl2vis(\"a chart showing the proportion of positions\")[0]"
   ]
  },
  {
   "cell_type": "code",
   "execution_count": null,
   "metadata": {
    "ExecuteTime": {
     "end_time": "2021-12-23T12:37:35.043716Z",
     "start_time": "2021-12-23T12:37:34.540913Z"
    }
   },
   "outputs": [],
   "source": [
    "sevi.nl2vis(\"a bar chart of field goal percentage by position, sort y in descending order\")[0]"
   ]
  },
  {
   "cell_type": "code",
   "execution_count": null,
   "metadata": {
    "ExecuteTime": {
     "end_time": "2021-12-23T12:37:38.202633Z",
     "start_time": "2021-12-23T12:37:37.711756Z"
    }
   },
   "outputs": [],
   "source": [
    "sevi.nl2vis(\n",
    "    nl_question= \"show me the number of players per position\",\n",
    "    chart_template={\n",
    "        'chart': 'bar'\n",
    "    }\n",
    ")[0]"
   ]
  },
  {
   "cell_type": "code",
   "execution_count": null,
   "metadata": {
    "ExecuteTime": {
     "end_time": "2021-12-23T12:37:43.675302Z",
     "start_time": "2021-12-23T12:37:43.191418Z"
    }
   },
   "outputs": [],
   "source": [
    "sevi.nl2vis(\n",
    "    nl_question= \"show me the proportion of shot\",\n",
    "    chart_template={\n",
    "        'chart': 'arc'\n",
    "    }\n",
    ")[0]"
   ]
  },
  {
   "cell_type": "code",
   "execution_count": null,
   "metadata": {
    "ExecuteTime": {
     "end_time": "2021-12-23T12:37:46.535269Z",
     "start_time": "2021-12-23T12:37:46.033048Z"
    }
   },
   "outputs": [],
   "source": [
    "sevi.nl2vis(\n",
    "    nl_question= \"show me the proportion of shot\",\n",
    "    chart_template={\n",
    "        'chart': 'bar'\n",
    "    }\n",
    ")[0]"
   ]
  },
  {
   "cell_type": "code",
   "execution_count": null,
   "metadata": {
    "ExecuteTime": {
     "end_time": "2021-12-23T12:37:50.136690Z",
     "start_time": "2021-12-23T12:37:49.601712Z"
    }
   },
   "outputs": [],
   "source": [
    "sevi.nl2vis(\n",
    "    nl_question= \"show me the proportion of shot\",\n",
    "    chart_template={\n",
    "        'chart': 'line'\n",
    "    }\n",
    ")[0]"
   ]
  },
  {
   "cell_type": "code",
   "execution_count": null,
   "metadata": {},
   "outputs": [],
   "source": []
  },
  {
   "cell_type": "markdown",
   "metadata": {},
   "source": [
    "# COVID-19"
   ]
  },
  {
   "cell_type": "code",
   "execution_count": null,
   "metadata": {
    "ExecuteTime": {
     "end_time": "2021-12-23T13:14:50.873622Z",
     "start_time": "2021-12-23T13:14:50.433855Z"
    }
   },
   "outputs": [],
   "source": [
    "# The data type must be one of the csv, json, sqlite3, or a DataFrame object.\n",
    "# example of read a table from sqlite3\n",
    "sevi.specify_dataset(\n",
    "    data_type='sqlite3',\n",
    "    db_url='./dataset/database/covid19/covid19.sqlite',\n",
    "    table_name='us_states'\n",
    ")"
   ]
  },
  {
   "cell_type": "code",
   "execution_count": null,
   "metadata": {
    "ExecuteTime": {
     "end_time": "2021-12-23T13:14:50.882270Z",
     "start_time": "2021-12-23T13:14:50.875504Z"
    }
   },
   "outputs": [],
   "source": [
    "sevi.show_dataset()"
   ]
  },
  {
   "cell_type": "code",
   "execution_count": null,
   "metadata": {
    "ExecuteTime": {
     "end_time": "2021-12-23T13:16:29.042880Z",
     "start_time": "2021-12-23T13:16:28.025783Z"
    },
    "scrolled": true
   },
   "outputs": [],
   "source": [
    "sevi.nl2vis(\n",
    "    nl_question= \"count the cases by states as a bar chart, sort x by name in asc\",\n",
    "    show_progress=True\n",
    ")[0]"
   ]
  },
  {
   "cell_type": "code",
   "execution_count": null,
   "metadata": {
    "ExecuteTime": {
     "end_time": "2021-12-23T13:18:17.948128Z",
     "start_time": "2021-12-23T13:18:17.066000Z"
    },
    "scrolled": true
   },
   "outputs": [],
   "source": [
    "sevi.nl2vis(\n",
    "    nl_question= \"how many confirmed cases in Washington\",\n",
    "    show_progress=True\n",
    ")[0]"
   ]
  },
  {
   "cell_type": "code",
   "execution_count": null,
   "metadata": {
    "ExecuteTime": {
     "end_time": "2021-12-23T13:18:45.340797Z",
     "start_time": "2021-12-23T13:18:44.483147Z"
    }
   },
   "outputs": [],
   "source": [
    "sevi.nl2vis('show the proportion of cases types in Washington')[0]"
   ]
  }
 ],
 "metadata": {
  "kernelspec": {
   "display_name": "Python 3 (ipykernel)",
   "language": "python",
   "name": "python3"
  },
  "language_info": {
   "codemirror_mode": {
    "name": "ipython",
    "version": 3
   },
   "file_extension": ".py",
   "mimetype": "text/x-python",
   "name": "python",
   "nbconvert_exporter": "python",
   "pygments_lexer": "ipython3",
   "version": "3.9.1"
  },
  "latex_envs": {
   "LaTeX_envs_menu_present": true,
   "autoclose": false,
   "autocomplete": true,
   "bibliofile": "biblio.bib",
   "cite_by": "apalike",
   "current_citInitial": 1,
   "eqLabelWithNumbers": true,
   "eqNumInitial": 1,
   "hotkeys": {
    "equation": "Ctrl-E",
    "itemize": "Ctrl-I"
   },
   "labels_anchors": false,
   "latex_user_defs": false,
   "report_style_numbering": false,
   "user_envs_cfg": false
  },
  "toc": {
   "base_numbering": 1,
   "nav_menu": {},
   "number_sections": true,
   "sideBar": true,
   "skip_h1_title": false,
   "title_cell": "Table of Contents",
   "title_sidebar": "Contents",
   "toc_cell": false,
   "toc_position": {
    "height": "calc(100% - 180px)",
    "left": "10px",
    "top": "150px",
    "width": "384px"
   },
   "toc_section_display": true,
   "toc_window_display": true
  }
 },
 "nbformat": 4,
 "nbformat_minor": 4
}
