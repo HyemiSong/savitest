{
 "cells": [
  {
   "cell_type": "markdown",
   "metadata": {},
   "source": [
    "this notebook is responsible for updating new covid-19 dataset and saving on SQLite3 database."
   ]
  },
  {
   "cell_type": "code",
   "execution_count": 1,
   "metadata": {
    "ExecuteTime": {
     "end_time": "2022-01-02T06:40:51.122091Z",
     "start_time": "2022-01-02T06:40:07.850561Z"
    }
   },
   "outputs": [],
   "source": [
    "import json\n",
    "import pandas as pd\n",
    "from tqdm import tqdm"
   ]
  },
  {
   "cell_type": "markdown",
   "metadata": {},
   "source": [
    "fetch data from nytime repo."
   ]
  },
  {
   "cell_type": "code",
   "execution_count": 48,
   "metadata": {
    "ExecuteTime": {
     "end_time": "2021-12-23T13:37:40.400122Z",
     "start_time": "2021-12-23T13:37:36.797293Z"
    }
   },
   "outputs": [
    {
     "ename": "ParserError",
     "evalue": "Error tokenizing data. C error: Expected 1 fields in line 108, saw 2\n",
     "output_type": "error",
     "traceback": [
      "\u001b[0;31m--------------------------------------------------------\u001b[0m",
      "\u001b[0;31mParserError\u001b[0m            Traceback (most recent call last)",
      "\u001b[0;32m<ipython-input-48-bbd57a463325>\u001b[0m in \u001b[0;36m<module>\u001b[0;34m\u001b[0m\n\u001b[1;32m      2\u001b[0m \u001b[0mcovid19_data_url\u001b[0m \u001b[0;34m=\u001b[0m \u001b[0;34m\"https://github.com/CSSEGISandData/COVID-19/blob/master/csse_covid_19_data/csse_covid_19_daily_reports_us/12-18-2021.csv\"\u001b[0m\u001b[0;34m\u001b[0m\u001b[0;34m\u001b[0m\u001b[0m\n\u001b[1;32m      3\u001b[0m \u001b[0;34m\u001b[0m\u001b[0m\n\u001b[0;32m----> 4\u001b[0;31m \u001b[0mdata\u001b[0m \u001b[0;34m=\u001b[0m \u001b[0mpd\u001b[0m\u001b[0;34m.\u001b[0m\u001b[0mread_csv\u001b[0m\u001b[0;34m(\u001b[0m\u001b[0mcovid19_data_url\u001b[0m\u001b[0;34m)\u001b[0m\u001b[0;34m\u001b[0m\u001b[0;34m\u001b[0m\u001b[0m\n\u001b[0m",
      "\u001b[0;32m~/anaconda3/lib/python3.8/site-packages/pandas/util/_decorators.py\u001b[0m in \u001b[0;36mwrapper\u001b[0;34m(*args, **kwargs)\u001b[0m\n\u001b[1;32m    309\u001b[0m                     \u001b[0mstacklevel\u001b[0m\u001b[0;34m=\u001b[0m\u001b[0mstacklevel\u001b[0m\u001b[0;34m,\u001b[0m\u001b[0;34m\u001b[0m\u001b[0;34m\u001b[0m\u001b[0m\n\u001b[1;32m    310\u001b[0m                 )\n\u001b[0;32m--> 311\u001b[0;31m             \u001b[0;32mreturn\u001b[0m \u001b[0mfunc\u001b[0m\u001b[0;34m(\u001b[0m\u001b[0;34m*\u001b[0m\u001b[0margs\u001b[0m\u001b[0;34m,\u001b[0m \u001b[0;34m**\u001b[0m\u001b[0mkwargs\u001b[0m\u001b[0;34m)\u001b[0m\u001b[0;34m\u001b[0m\u001b[0;34m\u001b[0m\u001b[0m\n\u001b[0m\u001b[1;32m    312\u001b[0m \u001b[0;34m\u001b[0m\u001b[0m\n\u001b[1;32m    313\u001b[0m         \u001b[0;32mreturn\u001b[0m \u001b[0mwrapper\u001b[0m\u001b[0;34m\u001b[0m\u001b[0;34m\u001b[0m\u001b[0m\n",
      "\u001b[0;32m~/anaconda3/lib/python3.8/site-packages/pandas/io/parsers/readers.py\u001b[0m in \u001b[0;36mread_csv\u001b[0;34m(filepath_or_buffer, sep, delimiter, header, names, index_col, usecols, squeeze, prefix, mangle_dupe_cols, dtype, engine, converters, true_values, false_values, skipinitialspace, skiprows, skipfooter, nrows, na_values, keep_default_na, na_filter, verbose, skip_blank_lines, parse_dates, infer_datetime_format, keep_date_col, date_parser, dayfirst, cache_dates, iterator, chunksize, compression, thousands, decimal, lineterminator, quotechar, quoting, doublequote, escapechar, comment, encoding, encoding_errors, dialect, error_bad_lines, warn_bad_lines, on_bad_lines, delim_whitespace, low_memory, memory_map, float_precision, storage_options)\u001b[0m\n\u001b[1;32m    584\u001b[0m     \u001b[0mkwds\u001b[0m\u001b[0;34m.\u001b[0m\u001b[0mupdate\u001b[0m\u001b[0;34m(\u001b[0m\u001b[0mkwds_defaults\u001b[0m\u001b[0;34m)\u001b[0m\u001b[0;34m\u001b[0m\u001b[0;34m\u001b[0m\u001b[0m\n\u001b[1;32m    585\u001b[0m \u001b[0;34m\u001b[0m\u001b[0m\n\u001b[0;32m--> 586\u001b[0;31m     \u001b[0;32mreturn\u001b[0m \u001b[0m_read\u001b[0m\u001b[0;34m(\u001b[0m\u001b[0mfilepath_or_buffer\u001b[0m\u001b[0;34m,\u001b[0m \u001b[0mkwds\u001b[0m\u001b[0;34m)\u001b[0m\u001b[0;34m\u001b[0m\u001b[0;34m\u001b[0m\u001b[0m\n\u001b[0m\u001b[1;32m    587\u001b[0m \u001b[0;34m\u001b[0m\u001b[0m\n\u001b[1;32m    588\u001b[0m \u001b[0;34m\u001b[0m\u001b[0m\n",
      "\u001b[0;32m~/anaconda3/lib/python3.8/site-packages/pandas/io/parsers/readers.py\u001b[0m in \u001b[0;36m_read\u001b[0;34m(filepath_or_buffer, kwds)\u001b[0m\n\u001b[1;32m    486\u001b[0m \u001b[0;34m\u001b[0m\u001b[0m\n\u001b[1;32m    487\u001b[0m     \u001b[0;32mwith\u001b[0m \u001b[0mparser\u001b[0m\u001b[0;34m:\u001b[0m\u001b[0;34m\u001b[0m\u001b[0;34m\u001b[0m\u001b[0m\n\u001b[0;32m--> 488\u001b[0;31m         \u001b[0;32mreturn\u001b[0m \u001b[0mparser\u001b[0m\u001b[0;34m.\u001b[0m\u001b[0mread\u001b[0m\u001b[0;34m(\u001b[0m\u001b[0mnrows\u001b[0m\u001b[0;34m)\u001b[0m\u001b[0;34m\u001b[0m\u001b[0;34m\u001b[0m\u001b[0m\n\u001b[0m\u001b[1;32m    489\u001b[0m \u001b[0;34m\u001b[0m\u001b[0m\n\u001b[1;32m    490\u001b[0m \u001b[0;34m\u001b[0m\u001b[0m\n",
      "\u001b[0;32m~/anaconda3/lib/python3.8/site-packages/pandas/io/parsers/readers.py\u001b[0m in \u001b[0;36mread\u001b[0;34m(self, nrows)\u001b[0m\n\u001b[1;32m   1045\u001b[0m     \u001b[0;32mdef\u001b[0m \u001b[0mread\u001b[0m\u001b[0;34m(\u001b[0m\u001b[0mself\u001b[0m\u001b[0;34m,\u001b[0m \u001b[0mnrows\u001b[0m\u001b[0;34m=\u001b[0m\u001b[0;32mNone\u001b[0m\u001b[0;34m)\u001b[0m\u001b[0;34m:\u001b[0m\u001b[0;34m\u001b[0m\u001b[0;34m\u001b[0m\u001b[0m\n\u001b[1;32m   1046\u001b[0m         \u001b[0mnrows\u001b[0m \u001b[0;34m=\u001b[0m \u001b[0mvalidate_integer\u001b[0m\u001b[0;34m(\u001b[0m\u001b[0;34m\"nrows\"\u001b[0m\u001b[0;34m,\u001b[0m \u001b[0mnrows\u001b[0m\u001b[0;34m)\u001b[0m\u001b[0;34m\u001b[0m\u001b[0;34m\u001b[0m\u001b[0m\n\u001b[0;32m-> 1047\u001b[0;31m         \u001b[0mindex\u001b[0m\u001b[0;34m,\u001b[0m \u001b[0mcolumns\u001b[0m\u001b[0;34m,\u001b[0m \u001b[0mcol_dict\u001b[0m \u001b[0;34m=\u001b[0m \u001b[0mself\u001b[0m\u001b[0;34m.\u001b[0m\u001b[0m_engine\u001b[0m\u001b[0;34m.\u001b[0m\u001b[0mread\u001b[0m\u001b[0;34m(\u001b[0m\u001b[0mnrows\u001b[0m\u001b[0;34m)\u001b[0m\u001b[0;34m\u001b[0m\u001b[0;34m\u001b[0m\u001b[0m\n\u001b[0m\u001b[1;32m   1048\u001b[0m \u001b[0;34m\u001b[0m\u001b[0m\n\u001b[1;32m   1049\u001b[0m         \u001b[0;32mif\u001b[0m \u001b[0mindex\u001b[0m \u001b[0;32mis\u001b[0m \u001b[0;32mNone\u001b[0m\u001b[0;34m:\u001b[0m\u001b[0;34m\u001b[0m\u001b[0;34m\u001b[0m\u001b[0m\n",
      "\u001b[0;32m~/anaconda3/lib/python3.8/site-packages/pandas/io/parsers/c_parser_wrapper.py\u001b[0m in \u001b[0;36mread\u001b[0;34m(self, nrows)\u001b[0m\n\u001b[1;32m    221\u001b[0m         \u001b[0;32mtry\u001b[0m\u001b[0;34m:\u001b[0m\u001b[0;34m\u001b[0m\u001b[0;34m\u001b[0m\u001b[0m\n\u001b[1;32m    222\u001b[0m             \u001b[0;32mif\u001b[0m \u001b[0mself\u001b[0m\u001b[0;34m.\u001b[0m\u001b[0mlow_memory\u001b[0m\u001b[0;34m:\u001b[0m\u001b[0;34m\u001b[0m\u001b[0;34m\u001b[0m\u001b[0m\n\u001b[0;32m--> 223\u001b[0;31m                 \u001b[0mchunks\u001b[0m \u001b[0;34m=\u001b[0m \u001b[0mself\u001b[0m\u001b[0;34m.\u001b[0m\u001b[0m_reader\u001b[0m\u001b[0;34m.\u001b[0m\u001b[0mread_low_memory\u001b[0m\u001b[0;34m(\u001b[0m\u001b[0mnrows\u001b[0m\u001b[0;34m)\u001b[0m\u001b[0;34m\u001b[0m\u001b[0;34m\u001b[0m\u001b[0m\n\u001b[0m\u001b[1;32m    224\u001b[0m                 \u001b[0;31m# destructive to chunks\u001b[0m\u001b[0;34m\u001b[0m\u001b[0;34m\u001b[0m\u001b[0;34m\u001b[0m\u001b[0m\n\u001b[1;32m    225\u001b[0m                 \u001b[0mdata\u001b[0m \u001b[0;34m=\u001b[0m \u001b[0m_concatenate_chunks\u001b[0m\u001b[0;34m(\u001b[0m\u001b[0mchunks\u001b[0m\u001b[0;34m)\u001b[0m\u001b[0;34m\u001b[0m\u001b[0;34m\u001b[0m\u001b[0m\n",
      "\u001b[0;32m~/anaconda3/lib/python3.8/site-packages/pandas/_libs/parsers.pyx\u001b[0m in \u001b[0;36mpandas._libs.parsers.TextReader.read_low_memory\u001b[0;34m()\u001b[0m\n",
      "\u001b[0;32m~/anaconda3/lib/python3.8/site-packages/pandas/_libs/parsers.pyx\u001b[0m in \u001b[0;36mpandas._libs.parsers.TextReader._read_rows\u001b[0;34m()\u001b[0m\n",
      "\u001b[0;32m~/anaconda3/lib/python3.8/site-packages/pandas/_libs/parsers.pyx\u001b[0m in \u001b[0;36mpandas._libs.parsers.TextReader._tokenize_rows\u001b[0;34m()\u001b[0m\n",
      "\u001b[0;32m~/anaconda3/lib/python3.8/site-packages/pandas/_libs/parsers.pyx\u001b[0m in \u001b[0;36mpandas._libs.parsers.raise_parser_error\u001b[0;34m()\u001b[0m\n",
      "\u001b[0;31mParserError\u001b[0m: Error tokenizing data. C error: Expected 1 fields in line 108, saw 2\n"
     ]
    }
   ],
   "source": [
    "covid19_data_url = \"https://raw.githubusercontent.com/nytimes/covid-19-data/master/us-states.csv\"\n",
    "# covid19_data_url = \"https://github.com/CSSEGISandData/COVID-19/blob/master/csse_covid_19_data/csse_covid_19_daily_reports_us/12-18-2021.csv\"\n",
    "\n",
    "data = pd.read_csv(covid19_data_url)"
   ]
  },
  {
   "cell_type": "code",
   "execution_count": 49,
   "metadata": {
    "ExecuteTime": {
     "end_time": "2021-12-23T13:38:34.400395Z",
     "start_time": "2021-12-23T13:38:34.381630Z"
    },
    "scrolled": true
   },
   "outputs": [
    {
     "data": {
      "text/html": [
       "<div>\n",
       "<style scoped>\n",
       "    .dataframe tbody tr th:only-of-type {\n",
       "        vertical-align: middle;\n",
       "    }\n",
       "\n",
       "    .dataframe tbody tr th {\n",
       "        vertical-align: top;\n",
       "    }\n",
       "\n",
       "    .dataframe thead th {\n",
       "        text-align: right;\n",
       "    }\n",
       "</style>\n",
       "<table border=\"1\" class=\"dataframe\">\n",
       "  <thead>\n",
       "    <tr style=\"text-align: right;\">\n",
       "      <th></th>\n",
       "      <th>date</th>\n",
       "      <th>states</th>\n",
       "      <th>cases</th>\n",
       "      <th>number</th>\n",
       "    </tr>\n",
       "  </thead>\n",
       "  <tbody>\n",
       "    <tr>\n",
       "      <th>0</th>\n",
       "      <td>2020-01-21</td>\n",
       "      <td>Washington</td>\n",
       "      <td>confirmed</td>\n",
       "      <td>1</td>\n",
       "    </tr>\n",
       "    <tr>\n",
       "      <th>1</th>\n",
       "      <td>2020-01-21</td>\n",
       "      <td>Washington</td>\n",
       "      <td>deaths</td>\n",
       "      <td>0</td>\n",
       "    </tr>\n",
       "    <tr>\n",
       "      <th>2</th>\n",
       "      <td>2020-01-22</td>\n",
       "      <td>Washington</td>\n",
       "      <td>confirmed</td>\n",
       "      <td>1</td>\n",
       "    </tr>\n",
       "    <tr>\n",
       "      <th>3</th>\n",
       "      <td>2020-01-22</td>\n",
       "      <td>Washington</td>\n",
       "      <td>deaths</td>\n",
       "      <td>0</td>\n",
       "    </tr>\n",
       "    <tr>\n",
       "      <th>4</th>\n",
       "      <td>2020-01-23</td>\n",
       "      <td>Washington</td>\n",
       "      <td>confirmed</td>\n",
       "      <td>1</td>\n",
       "    </tr>\n",
       "    <tr>\n",
       "      <th>...</th>\n",
       "      <td>...</td>\n",
       "      <td>...</td>\n",
       "      <td>...</td>\n",
       "      <td>...</td>\n",
       "    </tr>\n",
       "    <tr>\n",
       "      <th>72807</th>\n",
       "      <td>2021-12-22</td>\n",
       "      <td>West Virginia</td>\n",
       "      <td>deaths</td>\n",
       "      <td>5242</td>\n",
       "    </tr>\n",
       "    <tr>\n",
       "      <th>72808</th>\n",
       "      <td>2021-12-22</td>\n",
       "      <td>Wisconsin</td>\n",
       "      <td>confirmed</td>\n",
       "      <td>1072497</td>\n",
       "    </tr>\n",
       "    <tr>\n",
       "      <th>72809</th>\n",
       "      <td>2021-12-22</td>\n",
       "      <td>Wisconsin</td>\n",
       "      <td>deaths</td>\n",
       "      <td>10894</td>\n",
       "    </tr>\n",
       "    <tr>\n",
       "      <th>72810</th>\n",
       "      <td>2021-12-22</td>\n",
       "      <td>Wyoming</td>\n",
       "      <td>confirmed</td>\n",
       "      <td>114062</td>\n",
       "    </tr>\n",
       "    <tr>\n",
       "      <th>72811</th>\n",
       "      <td>2021-12-22</td>\n",
       "      <td>Wyoming</td>\n",
       "      <td>deaths</td>\n",
       "      <td>1526</td>\n",
       "    </tr>\n",
       "  </tbody>\n",
       "</table>\n",
       "<p>72812 rows × 4 columns</p>\n",
       "</div>"
      ],
      "text/plain": [
       "             date         states      cases   number\n",
       "0      2020-01-21     Washington  confirmed        1\n",
       "1      2020-01-21     Washington     deaths        0\n",
       "2      2020-01-22     Washington  confirmed        1\n",
       "3      2020-01-22     Washington     deaths        0\n",
       "4      2020-01-23     Washington  confirmed        1\n",
       "...           ...            ...        ...      ...\n",
       "72807  2021-12-22  West Virginia     deaths     5242\n",
       "72808  2021-12-22      Wisconsin  confirmed  1072497\n",
       "72809  2021-12-22      Wisconsin     deaths    10894\n",
       "72810  2021-12-22        Wyoming  confirmed   114062\n",
       "72811  2021-12-22        Wyoming     deaths     1526\n",
       "\n",
       "[72812 rows x 4 columns]"
      ]
     },
     "execution_count": 49,
     "metadata": {},
     "output_type": "execute_result"
    }
   ],
   "source": [
    "data"
   ]
  },
  {
   "cell_type": "code",
   "execution_count": 32,
   "metadata": {
    "ExecuteTime": {
     "end_time": "2021-12-23T13:14:46.802402Z",
     "start_time": "2021-12-23T13:14:46.797664Z"
    }
   },
   "outputs": [],
   "source": [
    "data = data[['date', 'state', 'cases', 'deaths']]\n",
    "data = data.rename(columns={\"state\": \"states\"})"
   ]
  },
  {
   "cell_type": "code",
   "execution_count": 33,
   "metadata": {
    "ExecuteTime": {
     "end_time": "2021-12-23T13:14:46.811773Z",
     "start_time": "2021-12-23T13:14:46.804136Z"
    }
   },
   "outputs": [
    {
     "data": {
      "text/html": [
       "<div>\n",
       "<style scoped>\n",
       "    .dataframe tbody tr th:only-of-type {\n",
       "        vertical-align: middle;\n",
       "    }\n",
       "\n",
       "    .dataframe tbody tr th {\n",
       "        vertical-align: top;\n",
       "    }\n",
       "\n",
       "    .dataframe thead th {\n",
       "        text-align: right;\n",
       "    }\n",
       "</style>\n",
       "<table border=\"1\" class=\"dataframe\">\n",
       "  <thead>\n",
       "    <tr style=\"text-align: right;\">\n",
       "      <th></th>\n",
       "      <th>date</th>\n",
       "      <th>states</th>\n",
       "      <th>cases</th>\n",
       "      <th>deaths</th>\n",
       "    </tr>\n",
       "  </thead>\n",
       "  <tbody>\n",
       "    <tr>\n",
       "      <th>0</th>\n",
       "      <td>2020-01-21</td>\n",
       "      <td>Washington</td>\n",
       "      <td>1</td>\n",
       "      <td>0</td>\n",
       "    </tr>\n",
       "    <tr>\n",
       "      <th>1</th>\n",
       "      <td>2020-01-22</td>\n",
       "      <td>Washington</td>\n",
       "      <td>1</td>\n",
       "      <td>0</td>\n",
       "    </tr>\n",
       "    <tr>\n",
       "      <th>2</th>\n",
       "      <td>2020-01-23</td>\n",
       "      <td>Washington</td>\n",
       "      <td>1</td>\n",
       "      <td>0</td>\n",
       "    </tr>\n",
       "    <tr>\n",
       "      <th>3</th>\n",
       "      <td>2020-01-24</td>\n",
       "      <td>Illinois</td>\n",
       "      <td>1</td>\n",
       "      <td>0</td>\n",
       "    </tr>\n",
       "    <tr>\n",
       "      <th>4</th>\n",
       "      <td>2020-01-24</td>\n",
       "      <td>Washington</td>\n",
       "      <td>1</td>\n",
       "      <td>0</td>\n",
       "    </tr>\n",
       "    <tr>\n",
       "      <th>...</th>\n",
       "      <td>...</td>\n",
       "      <td>...</td>\n",
       "      <td>...</td>\n",
       "      <td>...</td>\n",
       "    </tr>\n",
       "    <tr>\n",
       "      <th>36401</th>\n",
       "      <td>2021-12-22</td>\n",
       "      <td>Virginia</td>\n",
       "      <td>1034107</td>\n",
       "      <td>15224</td>\n",
       "    </tr>\n",
       "    <tr>\n",
       "      <th>36402</th>\n",
       "      <td>2021-12-22</td>\n",
       "      <td>Washington</td>\n",
       "      <td>812338</td>\n",
       "      <td>9799</td>\n",
       "    </tr>\n",
       "    <tr>\n",
       "      <th>36403</th>\n",
       "      <td>2021-12-22</td>\n",
       "      <td>West Virginia</td>\n",
       "      <td>317540</td>\n",
       "      <td>5242</td>\n",
       "    </tr>\n",
       "    <tr>\n",
       "      <th>36404</th>\n",
       "      <td>2021-12-22</td>\n",
       "      <td>Wisconsin</td>\n",
       "      <td>1072497</td>\n",
       "      <td>10894</td>\n",
       "    </tr>\n",
       "    <tr>\n",
       "      <th>36405</th>\n",
       "      <td>2021-12-22</td>\n",
       "      <td>Wyoming</td>\n",
       "      <td>114062</td>\n",
       "      <td>1526</td>\n",
       "    </tr>\n",
       "  </tbody>\n",
       "</table>\n",
       "<p>36406 rows × 4 columns</p>\n",
       "</div>"
      ],
      "text/plain": [
       "             date         states    cases  deaths\n",
       "0      2020-01-21     Washington        1       0\n",
       "1      2020-01-22     Washington        1       0\n",
       "2      2020-01-23     Washington        1       0\n",
       "3      2020-01-24       Illinois        1       0\n",
       "4      2020-01-24     Washington        1       0\n",
       "...           ...            ...      ...     ...\n",
       "36401  2021-12-22       Virginia  1034107   15224\n",
       "36402  2021-12-22     Washington   812338    9799\n",
       "36403  2021-12-22  West Virginia   317540    5242\n",
       "36404  2021-12-22      Wisconsin  1072497   10894\n",
       "36405  2021-12-22        Wyoming   114062    1526\n",
       "\n",
       "[36406 rows x 4 columns]"
      ]
     },
     "execution_count": 33,
     "metadata": {},
     "output_type": "execute_result"
    }
   ],
   "source": [
    "data"
   ]
  },
  {
   "cell_type": "markdown",
   "metadata": {},
   "source": [
    "table reshaping for visualization"
   ]
  },
  {
   "cell_type": "code",
   "execution_count": 34,
   "metadata": {
    "ExecuteTime": {
     "end_time": "2021-12-23T13:14:46.817689Z",
     "start_time": "2021-12-23T13:14:46.813092Z"
    }
   },
   "outputs": [],
   "source": [
    "data['number'] = data['cases']\n",
    "data['cases'] = 'confirmed'"
   ]
  },
  {
   "cell_type": "code",
   "execution_count": 35,
   "metadata": {
    "ExecuteTime": {
     "end_time": "2021-12-23T13:14:46.828675Z",
     "start_time": "2021-12-23T13:14:46.819307Z"
    }
   },
   "outputs": [
    {
     "data": {
      "text/html": [
       "<div>\n",
       "<style scoped>\n",
       "    .dataframe tbody tr th:only-of-type {\n",
       "        vertical-align: middle;\n",
       "    }\n",
       "\n",
       "    .dataframe tbody tr th {\n",
       "        vertical-align: top;\n",
       "    }\n",
       "\n",
       "    .dataframe thead th {\n",
       "        text-align: right;\n",
       "    }\n",
       "</style>\n",
       "<table border=\"1\" class=\"dataframe\">\n",
       "  <thead>\n",
       "    <tr style=\"text-align: right;\">\n",
       "      <th></th>\n",
       "      <th>date</th>\n",
       "      <th>states</th>\n",
       "      <th>cases</th>\n",
       "      <th>deaths</th>\n",
       "      <th>number</th>\n",
       "    </tr>\n",
       "  </thead>\n",
       "  <tbody>\n",
       "    <tr>\n",
       "      <th>0</th>\n",
       "      <td>2020-01-21</td>\n",
       "      <td>Washington</td>\n",
       "      <td>confirmed</td>\n",
       "      <td>0</td>\n",
       "      <td>1</td>\n",
       "    </tr>\n",
       "    <tr>\n",
       "      <th>1</th>\n",
       "      <td>2020-01-22</td>\n",
       "      <td>Washington</td>\n",
       "      <td>confirmed</td>\n",
       "      <td>0</td>\n",
       "      <td>1</td>\n",
       "    </tr>\n",
       "    <tr>\n",
       "      <th>2</th>\n",
       "      <td>2020-01-23</td>\n",
       "      <td>Washington</td>\n",
       "      <td>confirmed</td>\n",
       "      <td>0</td>\n",
       "      <td>1</td>\n",
       "    </tr>\n",
       "    <tr>\n",
       "      <th>3</th>\n",
       "      <td>2020-01-24</td>\n",
       "      <td>Illinois</td>\n",
       "      <td>confirmed</td>\n",
       "      <td>0</td>\n",
       "      <td>1</td>\n",
       "    </tr>\n",
       "    <tr>\n",
       "      <th>4</th>\n",
       "      <td>2020-01-24</td>\n",
       "      <td>Washington</td>\n",
       "      <td>confirmed</td>\n",
       "      <td>0</td>\n",
       "      <td>1</td>\n",
       "    </tr>\n",
       "    <tr>\n",
       "      <th>...</th>\n",
       "      <td>...</td>\n",
       "      <td>...</td>\n",
       "      <td>...</td>\n",
       "      <td>...</td>\n",
       "      <td>...</td>\n",
       "    </tr>\n",
       "    <tr>\n",
       "      <th>36401</th>\n",
       "      <td>2021-12-22</td>\n",
       "      <td>Virginia</td>\n",
       "      <td>confirmed</td>\n",
       "      <td>15224</td>\n",
       "      <td>1034107</td>\n",
       "    </tr>\n",
       "    <tr>\n",
       "      <th>36402</th>\n",
       "      <td>2021-12-22</td>\n",
       "      <td>Washington</td>\n",
       "      <td>confirmed</td>\n",
       "      <td>9799</td>\n",
       "      <td>812338</td>\n",
       "    </tr>\n",
       "    <tr>\n",
       "      <th>36403</th>\n",
       "      <td>2021-12-22</td>\n",
       "      <td>West Virginia</td>\n",
       "      <td>confirmed</td>\n",
       "      <td>5242</td>\n",
       "      <td>317540</td>\n",
       "    </tr>\n",
       "    <tr>\n",
       "      <th>36404</th>\n",
       "      <td>2021-12-22</td>\n",
       "      <td>Wisconsin</td>\n",
       "      <td>confirmed</td>\n",
       "      <td>10894</td>\n",
       "      <td>1072497</td>\n",
       "    </tr>\n",
       "    <tr>\n",
       "      <th>36405</th>\n",
       "      <td>2021-12-22</td>\n",
       "      <td>Wyoming</td>\n",
       "      <td>confirmed</td>\n",
       "      <td>1526</td>\n",
       "      <td>114062</td>\n",
       "    </tr>\n",
       "  </tbody>\n",
       "</table>\n",
       "<p>36406 rows × 5 columns</p>\n",
       "</div>"
      ],
      "text/plain": [
       "             date         states      cases  deaths   number\n",
       "0      2020-01-21     Washington  confirmed       0        1\n",
       "1      2020-01-22     Washington  confirmed       0        1\n",
       "2      2020-01-23     Washington  confirmed       0        1\n",
       "3      2020-01-24       Illinois  confirmed       0        1\n",
       "4      2020-01-24     Washington  confirmed       0        1\n",
       "...           ...            ...        ...     ...      ...\n",
       "36401  2021-12-22       Virginia  confirmed   15224  1034107\n",
       "36402  2021-12-22     Washington  confirmed    9799   812338\n",
       "36403  2021-12-22  West Virginia  confirmed    5242   317540\n",
       "36404  2021-12-22      Wisconsin  confirmed   10894  1072497\n",
       "36405  2021-12-22        Wyoming  confirmed    1526   114062\n",
       "\n",
       "[36406 rows x 5 columns]"
      ]
     },
     "execution_count": 35,
     "metadata": {},
     "output_type": "execute_result"
    }
   ],
   "source": [
    "data"
   ]
  },
  {
   "cell_type": "code",
   "execution_count": 36,
   "metadata": {
    "ExecuteTime": {
     "end_time": "2021-12-23T13:14:46.952833Z",
     "start_time": "2021-12-23T13:14:46.830544Z"
    }
   },
   "outputs": [],
   "source": [
    "len_of_current_data = len(data)\n",
    "data_list = data.values.tolist()\n"
   ]
  },
  {
   "cell_type": "code",
   "execution_count": 37,
   "metadata": {
    "ExecuteTime": {
     "end_time": "2021-12-23T13:14:46.986105Z",
     "start_time": "2021-12-23T13:14:46.956529Z"
    }
   },
   "outputs": [
    {
     "name": "stderr",
     "output_type": "stream",
     "text": [
      "100%|██████████| 36406/36406 [00:00<00:00, 1573636.64it/s]\n"
     ]
    }
   ],
   "source": [
    "for each in tqdm(data_list[:len_of_current_data]):\n",
    "    data_list.append(\n",
    "        [\n",
    "            each[0], each[1], 'deaths', each[3], each[3]\n",
    "        ]\n",
    "    )"
   ]
  },
  {
   "cell_type": "code",
   "execution_count": 38,
   "metadata": {
    "ExecuteTime": {
     "end_time": "2021-12-23T13:14:47.023230Z",
     "start_time": "2021-12-23T13:14:46.988258Z"
    }
   },
   "outputs": [],
   "source": [
    "data = pd.DataFrame(data=data_list, columns=list(data.columns))"
   ]
  },
  {
   "cell_type": "code",
   "execution_count": 39,
   "metadata": {
    "ExecuteTime": {
     "end_time": "2021-12-23T13:14:47.033718Z",
     "start_time": "2021-12-23T13:14:47.025206Z"
    }
   },
   "outputs": [
    {
     "data": {
      "text/html": [
       "<div>\n",
       "<style scoped>\n",
       "    .dataframe tbody tr th:only-of-type {\n",
       "        vertical-align: middle;\n",
       "    }\n",
       "\n",
       "    .dataframe tbody tr th {\n",
       "        vertical-align: top;\n",
       "    }\n",
       "\n",
       "    .dataframe thead th {\n",
       "        text-align: right;\n",
       "    }\n",
       "</style>\n",
       "<table border=\"1\" class=\"dataframe\">\n",
       "  <thead>\n",
       "    <tr style=\"text-align: right;\">\n",
       "      <th></th>\n",
       "      <th>date</th>\n",
       "      <th>states</th>\n",
       "      <th>cases</th>\n",
       "      <th>deaths</th>\n",
       "      <th>number</th>\n",
       "    </tr>\n",
       "  </thead>\n",
       "  <tbody>\n",
       "    <tr>\n",
       "      <th>0</th>\n",
       "      <td>2020-01-21</td>\n",
       "      <td>Washington</td>\n",
       "      <td>confirmed</td>\n",
       "      <td>0</td>\n",
       "      <td>1</td>\n",
       "    </tr>\n",
       "    <tr>\n",
       "      <th>1</th>\n",
       "      <td>2020-01-22</td>\n",
       "      <td>Washington</td>\n",
       "      <td>confirmed</td>\n",
       "      <td>0</td>\n",
       "      <td>1</td>\n",
       "    </tr>\n",
       "    <tr>\n",
       "      <th>2</th>\n",
       "      <td>2020-01-23</td>\n",
       "      <td>Washington</td>\n",
       "      <td>confirmed</td>\n",
       "      <td>0</td>\n",
       "      <td>1</td>\n",
       "    </tr>\n",
       "    <tr>\n",
       "      <th>3</th>\n",
       "      <td>2020-01-24</td>\n",
       "      <td>Illinois</td>\n",
       "      <td>confirmed</td>\n",
       "      <td>0</td>\n",
       "      <td>1</td>\n",
       "    </tr>\n",
       "    <tr>\n",
       "      <th>4</th>\n",
       "      <td>2020-01-24</td>\n",
       "      <td>Washington</td>\n",
       "      <td>confirmed</td>\n",
       "      <td>0</td>\n",
       "      <td>1</td>\n",
       "    </tr>\n",
       "    <tr>\n",
       "      <th>...</th>\n",
       "      <td>...</td>\n",
       "      <td>...</td>\n",
       "      <td>...</td>\n",
       "      <td>...</td>\n",
       "      <td>...</td>\n",
       "    </tr>\n",
       "    <tr>\n",
       "      <th>72807</th>\n",
       "      <td>2021-12-22</td>\n",
       "      <td>Virginia</td>\n",
       "      <td>deaths</td>\n",
       "      <td>15224</td>\n",
       "      <td>15224</td>\n",
       "    </tr>\n",
       "    <tr>\n",
       "      <th>72808</th>\n",
       "      <td>2021-12-22</td>\n",
       "      <td>Washington</td>\n",
       "      <td>deaths</td>\n",
       "      <td>9799</td>\n",
       "      <td>9799</td>\n",
       "    </tr>\n",
       "    <tr>\n",
       "      <th>72809</th>\n",
       "      <td>2021-12-22</td>\n",
       "      <td>West Virginia</td>\n",
       "      <td>deaths</td>\n",
       "      <td>5242</td>\n",
       "      <td>5242</td>\n",
       "    </tr>\n",
       "    <tr>\n",
       "      <th>72810</th>\n",
       "      <td>2021-12-22</td>\n",
       "      <td>Wisconsin</td>\n",
       "      <td>deaths</td>\n",
       "      <td>10894</td>\n",
       "      <td>10894</td>\n",
       "    </tr>\n",
       "    <tr>\n",
       "      <th>72811</th>\n",
       "      <td>2021-12-22</td>\n",
       "      <td>Wyoming</td>\n",
       "      <td>deaths</td>\n",
       "      <td>1526</td>\n",
       "      <td>1526</td>\n",
       "    </tr>\n",
       "  </tbody>\n",
       "</table>\n",
       "<p>72812 rows × 5 columns</p>\n",
       "</div>"
      ],
      "text/plain": [
       "             date         states      cases  deaths  number\n",
       "0      2020-01-21     Washington  confirmed       0       1\n",
       "1      2020-01-22     Washington  confirmed       0       1\n",
       "2      2020-01-23     Washington  confirmed       0       1\n",
       "3      2020-01-24       Illinois  confirmed       0       1\n",
       "4      2020-01-24     Washington  confirmed       0       1\n",
       "...           ...            ...        ...     ...     ...\n",
       "72807  2021-12-22       Virginia     deaths   15224   15224\n",
       "72808  2021-12-22     Washington     deaths    9799    9799\n",
       "72809  2021-12-22  West Virginia     deaths    5242    5242\n",
       "72810  2021-12-22      Wisconsin     deaths   10894   10894\n",
       "72811  2021-12-22        Wyoming     deaths    1526    1526\n",
       "\n",
       "[72812 rows x 5 columns]"
      ]
     },
     "execution_count": 39,
     "metadata": {},
     "output_type": "execute_result"
    }
   ],
   "source": [
    "data"
   ]
  },
  {
   "cell_type": "code",
   "execution_count": 40,
   "metadata": {
    "ExecuteTime": {
     "end_time": "2021-12-23T13:14:47.037142Z",
     "start_time": "2021-12-23T13:14:47.035042Z"
    }
   },
   "outputs": [],
   "source": [
    "new_col = list(data.columns)\n",
    "new_col.remove('deaths')"
   ]
  },
  {
   "cell_type": "code",
   "execution_count": 41,
   "metadata": {
    "ExecuteTime": {
     "end_time": "2021-12-23T13:14:47.047609Z",
     "start_time": "2021-12-23T13:14:47.038701Z"
    }
   },
   "outputs": [
    {
     "data": {
      "text/html": [
       "<div>\n",
       "<style scoped>\n",
       "    .dataframe tbody tr th:only-of-type {\n",
       "        vertical-align: middle;\n",
       "    }\n",
       "\n",
       "    .dataframe tbody tr th {\n",
       "        vertical-align: top;\n",
       "    }\n",
       "\n",
       "    .dataframe thead th {\n",
       "        text-align: right;\n",
       "    }\n",
       "</style>\n",
       "<table border=\"1\" class=\"dataframe\">\n",
       "  <thead>\n",
       "    <tr style=\"text-align: right;\">\n",
       "      <th></th>\n",
       "      <th>date</th>\n",
       "      <th>states</th>\n",
       "      <th>cases</th>\n",
       "      <th>number</th>\n",
       "    </tr>\n",
       "  </thead>\n",
       "  <tbody>\n",
       "    <tr>\n",
       "      <th>0</th>\n",
       "      <td>2020-01-21</td>\n",
       "      <td>Washington</td>\n",
       "      <td>confirmed</td>\n",
       "      <td>1</td>\n",
       "    </tr>\n",
       "    <tr>\n",
       "      <th>1</th>\n",
       "      <td>2020-01-22</td>\n",
       "      <td>Washington</td>\n",
       "      <td>confirmed</td>\n",
       "      <td>1</td>\n",
       "    </tr>\n",
       "    <tr>\n",
       "      <th>2</th>\n",
       "      <td>2020-01-23</td>\n",
       "      <td>Washington</td>\n",
       "      <td>confirmed</td>\n",
       "      <td>1</td>\n",
       "    </tr>\n",
       "    <tr>\n",
       "      <th>3</th>\n",
       "      <td>2020-01-24</td>\n",
       "      <td>Illinois</td>\n",
       "      <td>confirmed</td>\n",
       "      <td>1</td>\n",
       "    </tr>\n",
       "    <tr>\n",
       "      <th>4</th>\n",
       "      <td>2020-01-24</td>\n",
       "      <td>Washington</td>\n",
       "      <td>confirmed</td>\n",
       "      <td>1</td>\n",
       "    </tr>\n",
       "    <tr>\n",
       "      <th>...</th>\n",
       "      <td>...</td>\n",
       "      <td>...</td>\n",
       "      <td>...</td>\n",
       "      <td>...</td>\n",
       "    </tr>\n",
       "    <tr>\n",
       "      <th>72807</th>\n",
       "      <td>2021-12-22</td>\n",
       "      <td>Virginia</td>\n",
       "      <td>deaths</td>\n",
       "      <td>15224</td>\n",
       "    </tr>\n",
       "    <tr>\n",
       "      <th>72808</th>\n",
       "      <td>2021-12-22</td>\n",
       "      <td>Washington</td>\n",
       "      <td>deaths</td>\n",
       "      <td>9799</td>\n",
       "    </tr>\n",
       "    <tr>\n",
       "      <th>72809</th>\n",
       "      <td>2021-12-22</td>\n",
       "      <td>West Virginia</td>\n",
       "      <td>deaths</td>\n",
       "      <td>5242</td>\n",
       "    </tr>\n",
       "    <tr>\n",
       "      <th>72810</th>\n",
       "      <td>2021-12-22</td>\n",
       "      <td>Wisconsin</td>\n",
       "      <td>deaths</td>\n",
       "      <td>10894</td>\n",
       "    </tr>\n",
       "    <tr>\n",
       "      <th>72811</th>\n",
       "      <td>2021-12-22</td>\n",
       "      <td>Wyoming</td>\n",
       "      <td>deaths</td>\n",
       "      <td>1526</td>\n",
       "    </tr>\n",
       "  </tbody>\n",
       "</table>\n",
       "<p>72812 rows × 4 columns</p>\n",
       "</div>"
      ],
      "text/plain": [
       "             date         states      cases  number\n",
       "0      2020-01-21     Washington  confirmed       1\n",
       "1      2020-01-22     Washington  confirmed       1\n",
       "2      2020-01-23     Washington  confirmed       1\n",
       "3      2020-01-24       Illinois  confirmed       1\n",
       "4      2020-01-24     Washington  confirmed       1\n",
       "...           ...            ...        ...     ...\n",
       "72807  2021-12-22       Virginia     deaths   15224\n",
       "72808  2021-12-22     Washington     deaths    9799\n",
       "72809  2021-12-22  West Virginia     deaths    5242\n",
       "72810  2021-12-22      Wisconsin     deaths   10894\n",
       "72811  2021-12-22        Wyoming     deaths    1526\n",
       "\n",
       "[72812 rows x 4 columns]"
      ]
     },
     "execution_count": 41,
     "metadata": {},
     "output_type": "execute_result"
    }
   ],
   "source": [
    "data = data[new_col]\n",
    "data"
   ]
  },
  {
   "cell_type": "code",
   "execution_count": 42,
   "metadata": {
    "ExecuteTime": {
     "end_time": "2021-12-23T13:14:47.088370Z",
     "start_time": "2021-12-23T13:14:47.049376Z"
    }
   },
   "outputs": [
    {
     "data": {
      "text/html": [
       "<div>\n",
       "<style scoped>\n",
       "    .dataframe tbody tr th:only-of-type {\n",
       "        vertical-align: middle;\n",
       "    }\n",
       "\n",
       "    .dataframe tbody tr th {\n",
       "        vertical-align: top;\n",
       "    }\n",
       "\n",
       "    .dataframe thead th {\n",
       "        text-align: right;\n",
       "    }\n",
       "</style>\n",
       "<table border=\"1\" class=\"dataframe\">\n",
       "  <thead>\n",
       "    <tr style=\"text-align: right;\">\n",
       "      <th></th>\n",
       "      <th>date</th>\n",
       "      <th>states</th>\n",
       "      <th>cases</th>\n",
       "      <th>number</th>\n",
       "    </tr>\n",
       "  </thead>\n",
       "  <tbody>\n",
       "    <tr>\n",
       "      <th>0</th>\n",
       "      <td>2020-01-21</td>\n",
       "      <td>Washington</td>\n",
       "      <td>confirmed</td>\n",
       "      <td>1</td>\n",
       "    </tr>\n",
       "    <tr>\n",
       "      <th>1</th>\n",
       "      <td>2020-01-21</td>\n",
       "      <td>Washington</td>\n",
       "      <td>deaths</td>\n",
       "      <td>0</td>\n",
       "    </tr>\n",
       "    <tr>\n",
       "      <th>2</th>\n",
       "      <td>2020-01-22</td>\n",
       "      <td>Washington</td>\n",
       "      <td>confirmed</td>\n",
       "      <td>1</td>\n",
       "    </tr>\n",
       "    <tr>\n",
       "      <th>3</th>\n",
       "      <td>2020-01-22</td>\n",
       "      <td>Washington</td>\n",
       "      <td>deaths</td>\n",
       "      <td>0</td>\n",
       "    </tr>\n",
       "    <tr>\n",
       "      <th>4</th>\n",
       "      <td>2020-01-23</td>\n",
       "      <td>Washington</td>\n",
       "      <td>confirmed</td>\n",
       "      <td>1</td>\n",
       "    </tr>\n",
       "    <tr>\n",
       "      <th>...</th>\n",
       "      <td>...</td>\n",
       "      <td>...</td>\n",
       "      <td>...</td>\n",
       "      <td>...</td>\n",
       "    </tr>\n",
       "    <tr>\n",
       "      <th>72807</th>\n",
       "      <td>2021-12-22</td>\n",
       "      <td>West Virginia</td>\n",
       "      <td>deaths</td>\n",
       "      <td>5242</td>\n",
       "    </tr>\n",
       "    <tr>\n",
       "      <th>72808</th>\n",
       "      <td>2021-12-22</td>\n",
       "      <td>Wisconsin</td>\n",
       "      <td>confirmed</td>\n",
       "      <td>1072497</td>\n",
       "    </tr>\n",
       "    <tr>\n",
       "      <th>72809</th>\n",
       "      <td>2021-12-22</td>\n",
       "      <td>Wisconsin</td>\n",
       "      <td>deaths</td>\n",
       "      <td>10894</td>\n",
       "    </tr>\n",
       "    <tr>\n",
       "      <th>72810</th>\n",
       "      <td>2021-12-22</td>\n",
       "      <td>Wyoming</td>\n",
       "      <td>confirmed</td>\n",
       "      <td>114062</td>\n",
       "    </tr>\n",
       "    <tr>\n",
       "      <th>72811</th>\n",
       "      <td>2021-12-22</td>\n",
       "      <td>Wyoming</td>\n",
       "      <td>deaths</td>\n",
       "      <td>1526</td>\n",
       "    </tr>\n",
       "  </tbody>\n",
       "</table>\n",
       "<p>72812 rows × 4 columns</p>\n",
       "</div>"
      ],
      "text/plain": [
       "             date         states      cases   number\n",
       "0      2020-01-21     Washington  confirmed        1\n",
       "1      2020-01-21     Washington     deaths        0\n",
       "2      2020-01-22     Washington  confirmed        1\n",
       "3      2020-01-22     Washington     deaths        0\n",
       "4      2020-01-23     Washington  confirmed        1\n",
       "...           ...            ...        ...      ...\n",
       "72807  2021-12-22  West Virginia     deaths     5242\n",
       "72808  2021-12-22      Wisconsin  confirmed  1072497\n",
       "72809  2021-12-22      Wisconsin     deaths    10894\n",
       "72810  2021-12-22        Wyoming  confirmed   114062\n",
       "72811  2021-12-22        Wyoming     deaths     1526\n",
       "\n",
       "[72812 rows x 4 columns]"
      ]
     },
     "execution_count": 42,
     "metadata": {},
     "output_type": "execute_result"
    }
   ],
   "source": [
    "data = data.sort_values(['date', 'states', 'cases']).reset_index(drop=True)\n",
    "data "
   ]
  },
  {
   "cell_type": "markdown",
   "metadata": {},
   "source": [
    "save the dataset into SQLite3 databse"
   ]
  },
  {
   "cell_type": "code",
   "execution_count": 43,
   "metadata": {
    "ExecuteTime": {
     "end_time": "2021-12-23T13:14:47.092227Z",
     "start_time": "2021-12-23T13:14:47.090473Z"
    }
   },
   "outputs": [],
   "source": [
    "import sqlite3\n",
    "import os"
   ]
  },
  {
   "cell_type": "code",
   "execution_count": 44,
   "metadata": {
    "ExecuteTime": {
     "end_time": "2021-12-23T13:14:47.095700Z",
     "start_time": "2021-12-23T13:14:47.093595Z"
    }
   },
   "outputs": [],
   "source": [
    "if not os.path.exists('./dataset/database/covid19'):\n",
    "    os.makedirs('./dataset/database/covid19')"
   ]
  },
  {
   "cell_type": "code",
   "execution_count": 45,
   "metadata": {
    "ExecuteTime": {
     "end_time": "2021-12-23T13:14:47.099978Z",
     "start_time": "2021-12-23T13:14:47.097102Z"
    }
   },
   "outputs": [],
   "source": [
    "conn = sqlite3.connect('./dataset/database/covid19/covid19.sqlite')"
   ]
  },
  {
   "cell_type": "code",
   "execution_count": 46,
   "metadata": {
    "ExecuteTime": {
     "end_time": "2021-12-23T13:14:47.298187Z",
     "start_time": "2021-12-23T13:14:47.101862Z"
    }
   },
   "outputs": [],
   "source": [
    "data.to_sql('us_states', conn, if_exists='replace', index=False)"
   ]
  },
  {
   "cell_type": "code",
   "execution_count": 47,
   "metadata": {
    "ExecuteTime": {
     "end_time": "2021-12-23T13:14:47.418584Z",
     "start_time": "2021-12-23T13:14:47.299627Z"
    }
   },
   "outputs": [
    {
     "data": {
      "text/html": [
       "<div>\n",
       "<style scoped>\n",
       "    .dataframe tbody tr th:only-of-type {\n",
       "        vertical-align: middle;\n",
       "    }\n",
       "\n",
       "    .dataframe tbody tr th {\n",
       "        vertical-align: top;\n",
       "    }\n",
       "\n",
       "    .dataframe thead th {\n",
       "        text-align: right;\n",
       "    }\n",
       "</style>\n",
       "<table border=\"1\" class=\"dataframe\">\n",
       "  <thead>\n",
       "    <tr style=\"text-align: right;\">\n",
       "      <th></th>\n",
       "      <th>date</th>\n",
       "      <th>states</th>\n",
       "      <th>cases</th>\n",
       "      <th>number</th>\n",
       "    </tr>\n",
       "  </thead>\n",
       "  <tbody>\n",
       "    <tr>\n",
       "      <th>0</th>\n",
       "      <td>2020-01-21</td>\n",
       "      <td>Washington</td>\n",
       "      <td>confirmed</td>\n",
       "      <td>1</td>\n",
       "    </tr>\n",
       "    <tr>\n",
       "      <th>1</th>\n",
       "      <td>2020-01-21</td>\n",
       "      <td>Washington</td>\n",
       "      <td>deaths</td>\n",
       "      <td>0</td>\n",
       "    </tr>\n",
       "    <tr>\n",
       "      <th>2</th>\n",
       "      <td>2020-01-22</td>\n",
       "      <td>Washington</td>\n",
       "      <td>confirmed</td>\n",
       "      <td>1</td>\n",
       "    </tr>\n",
       "    <tr>\n",
       "      <th>3</th>\n",
       "      <td>2020-01-22</td>\n",
       "      <td>Washington</td>\n",
       "      <td>deaths</td>\n",
       "      <td>0</td>\n",
       "    </tr>\n",
       "    <tr>\n",
       "      <th>4</th>\n",
       "      <td>2020-01-23</td>\n",
       "      <td>Washington</td>\n",
       "      <td>confirmed</td>\n",
       "      <td>1</td>\n",
       "    </tr>\n",
       "    <tr>\n",
       "      <th>...</th>\n",
       "      <td>...</td>\n",
       "      <td>...</td>\n",
       "      <td>...</td>\n",
       "      <td>...</td>\n",
       "    </tr>\n",
       "    <tr>\n",
       "      <th>72807</th>\n",
       "      <td>2021-12-22</td>\n",
       "      <td>West Virginia</td>\n",
       "      <td>deaths</td>\n",
       "      <td>5242</td>\n",
       "    </tr>\n",
       "    <tr>\n",
       "      <th>72808</th>\n",
       "      <td>2021-12-22</td>\n",
       "      <td>Wisconsin</td>\n",
       "      <td>confirmed</td>\n",
       "      <td>1072497</td>\n",
       "    </tr>\n",
       "    <tr>\n",
       "      <th>72809</th>\n",
       "      <td>2021-12-22</td>\n",
       "      <td>Wisconsin</td>\n",
       "      <td>deaths</td>\n",
       "      <td>10894</td>\n",
       "    </tr>\n",
       "    <tr>\n",
       "      <th>72810</th>\n",
       "      <td>2021-12-22</td>\n",
       "      <td>Wyoming</td>\n",
       "      <td>confirmed</td>\n",
       "      <td>114062</td>\n",
       "    </tr>\n",
       "    <tr>\n",
       "      <th>72811</th>\n",
       "      <td>2021-12-22</td>\n",
       "      <td>Wyoming</td>\n",
       "      <td>deaths</td>\n",
       "      <td>1526</td>\n",
       "    </tr>\n",
       "  </tbody>\n",
       "</table>\n",
       "<p>72812 rows × 4 columns</p>\n",
       "</div>"
      ],
      "text/plain": [
       "             date         states      cases   number\n",
       "0      2020-01-21     Washington  confirmed        1\n",
       "1      2020-01-21     Washington     deaths        0\n",
       "2      2020-01-22     Washington  confirmed        1\n",
       "3      2020-01-22     Washington     deaths        0\n",
       "4      2020-01-23     Washington  confirmed        1\n",
       "...           ...            ...        ...      ...\n",
       "72807  2021-12-22  West Virginia     deaths     5242\n",
       "72808  2021-12-22      Wisconsin  confirmed  1072497\n",
       "72809  2021-12-22      Wisconsin     deaths    10894\n",
       "72810  2021-12-22        Wyoming  confirmed   114062\n",
       "72811  2021-12-22        Wyoming     deaths     1526\n",
       "\n",
       "[72812 rows x 4 columns]"
      ]
     },
     "execution_count": 47,
     "metadata": {},
     "output_type": "execute_result"
    }
   ],
   "source": [
    "pd.read_sql('select * from us_states', conn)"
   ]
  },
  {
   "cell_type": "code",
   "execution_count": null,
   "metadata": {},
   "outputs": [],
   "source": []
  },
  {
   "cell_type": "code",
   "execution_count": null,
   "metadata": {},
   "outputs": [],
   "source": []
  },
  {
   "cell_type": "markdown",
   "metadata": {},
   "source": [
    "# Example Visualizations"
   ]
  },
  {
   "cell_type": "code",
   "execution_count": null,
   "metadata": {},
   "outputs": [],
   "source": []
  },
  {
   "cell_type": "code",
   "execution_count": null,
   "metadata": {},
   "outputs": [],
   "source": []
  },
  {
   "cell_type": "code",
   "execution_count": null,
   "metadata": {},
   "outputs": [],
   "source": []
  }
 ],
 "metadata": {
  "kernelspec": {
   "display_name": "Python 3",
   "language": "python",
   "name": "python3"
  },
  "language_info": {
   "codemirror_mode": {
    "name": "ipython",
    "version": 3
   },
   "file_extension": ".py",
   "mimetype": "text/x-python",
   "name": "python",
   "nbconvert_exporter": "python",
   "pygments_lexer": "ipython3",
   "version": "3.8.3"
  },
  "latex_envs": {
   "LaTeX_envs_menu_present": true,
   "autoclose": false,
   "autocomplete": true,
   "bibliofile": "biblio.bib",
   "cite_by": "apalike",
   "current_citInitial": 1,
   "eqLabelWithNumbers": true,
   "eqNumInitial": 1,
   "hotkeys": {
    "equation": "Ctrl-E",
    "itemize": "Ctrl-I"
   },
   "labels_anchors": false,
   "latex_user_defs": false,
   "report_style_numbering": false,
   "user_envs_cfg": false
  },
  "toc": {
   "base_numbering": 1,
   "nav_menu": {},
   "number_sections": true,
   "sideBar": true,
   "skip_h1_title": false,
   "title_cell": "Table of Contents",
   "title_sidebar": "Contents",
   "toc_cell": false,
   "toc_position": {},
   "toc_section_display": true,
   "toc_window_display": false
  }
 },
 "nbformat": 4,
 "nbformat_minor": 4
}
