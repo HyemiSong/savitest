{
 "cells": [
  {
   "cell_type": "markdown",
   "metadata": {},
   "source": [
    "# Configure Google Cloud Speech-to-Text Service."
   ]
  },
  {
   "cell_type": "code",
   "execution_count": 1,
   "metadata": {
    "ExecuteTime": {
     "end_time": "2021-12-20T02:47:00.369095Z",
     "start_time": "2021-12-20T02:46:54.587432Z"
    },
    "scrolled": true
   },
   "outputs": [
    {
     "name": "stdout",
     "output_type": "stream",
     "text": [
      "Collecting google-cloud-speech\n",
      "  Downloading google_cloud_speech-2.11.1-py2.py3-none-any.whl (121 kB)\n",
      "\u001b[K     |████████████████████████████████| 121 kB 784 kB/s eta 0:00:01\n",
      "\u001b[?25hRequirement already satisfied, skipping upgrade: libcst>=0.2.5 in /Users/yuyu/anaconda3/lib/python3.8/site-packages (from google-cloud-speech) (0.3.19)\n",
      "Requirement already satisfied, skipping upgrade: google-api-core[grpc]<3.0.0dev,>=1.28.0 in /Users/yuyu/anaconda3/lib/python3.8/site-packages (from google-cloud-speech) (1.31.1)\n",
      "Requirement already satisfied, skipping upgrade: proto-plus>=1.4.0 in /Users/yuyu/anaconda3/lib/python3.8/site-packages (from google-cloud-speech) (1.19.0)\n",
      "Requirement already satisfied, skipping upgrade: typing-inspect>=0.4.0 in /Users/yuyu/anaconda3/lib/python3.8/site-packages (from libcst>=0.2.5->google-cloud-speech) (0.7.1)\n",
      "Requirement already satisfied, skipping upgrade: typing-extensions>=3.7.4.2 in /Users/yuyu/anaconda3/lib/python3.8/site-packages (from libcst>=0.2.5->google-cloud-speech) (4.0.0)\n",
      "Requirement already satisfied, skipping upgrade: pyyaml>=5.2 in /Users/yuyu/anaconda3/lib/python3.8/site-packages (from libcst>=0.2.5->google-cloud-speech) (5.3.1)\n",
      "Requirement already satisfied, skipping upgrade: protobuf>=3.12.0 in /Users/yuyu/anaconda3/lib/python3.8/site-packages (from google-api-core[grpc]<3.0.0dev,>=1.28.0->google-cloud-speech) (3.17.3)\n",
      "Requirement already satisfied, skipping upgrade: packaging>=14.3 in /Users/yuyu/anaconda3/lib/python3.8/site-packages (from google-api-core[grpc]<3.0.0dev,>=1.28.0->google-cloud-speech) (20.4)\n",
      "Requirement already satisfied, skipping upgrade: googleapis-common-protos<2.0dev,>=1.6.0 in /Users/yuyu/anaconda3/lib/python3.8/site-packages (from google-api-core[grpc]<3.0.0dev,>=1.28.0->google-cloud-speech) (1.53.0)\n",
      "Requirement already satisfied, skipping upgrade: pytz in /Users/yuyu/anaconda3/lib/python3.8/site-packages (from google-api-core[grpc]<3.0.0dev,>=1.28.0->google-cloud-speech) (2020.1)\n",
      "Requirement already satisfied, skipping upgrade: google-auth<2.0dev,>=1.25.0 in /Users/yuyu/anaconda3/lib/python3.8/site-packages (from google-api-core[grpc]<3.0.0dev,>=1.28.0->google-cloud-speech) (1.34.0)\n",
      "Requirement already satisfied, skipping upgrade: six>=1.13.0 in /Users/yuyu/anaconda3/lib/python3.8/site-packages (from google-api-core[grpc]<3.0.0dev,>=1.28.0->google-cloud-speech) (1.15.0)\n",
      "Requirement already satisfied, skipping upgrade: setuptools>=40.3.0 in /Users/yuyu/anaconda3/lib/python3.8/site-packages (from google-api-core[grpc]<3.0.0dev,>=1.28.0->google-cloud-speech) (49.2.0.post20200714)\n",
      "Requirement already satisfied, skipping upgrade: requests<3.0.0dev,>=2.18.0 in /Users/yuyu/anaconda3/lib/python3.8/site-packages (from google-api-core[grpc]<3.0.0dev,>=1.28.0->google-cloud-speech) (2.24.0)\n",
      "Requirement already satisfied, skipping upgrade: grpcio<2.0dev,>=1.29.0; extra == \"grpc\" in /Users/yuyu/anaconda3/lib/python3.8/site-packages (from google-api-core[grpc]<3.0.0dev,>=1.28.0->google-cloud-speech) (1.39.0)\n",
      "Requirement already satisfied, skipping upgrade: mypy-extensions>=0.3.0 in /Users/yuyu/anaconda3/lib/python3.8/site-packages (from typing-inspect>=0.4.0->libcst>=0.2.5->google-cloud-speech) (0.4.3)\n",
      "Requirement already satisfied, skipping upgrade: pyparsing>=2.0.2 in /Users/yuyu/anaconda3/lib/python3.8/site-packages (from packaging>=14.3->google-api-core[grpc]<3.0.0dev,>=1.28.0->google-cloud-speech) (2.4.7)\n",
      "Requirement already satisfied, skipping upgrade: pyasn1-modules>=0.2.1 in /Users/yuyu/anaconda3/lib/python3.8/site-packages (from google-auth<2.0dev,>=1.25.0->google-api-core[grpc]<3.0.0dev,>=1.28.0->google-cloud-speech) (0.2.8)\n",
      "Requirement already satisfied, skipping upgrade: cachetools<5.0,>=2.0.0 in /Users/yuyu/anaconda3/lib/python3.8/site-packages (from google-auth<2.0dev,>=1.25.0->google-api-core[grpc]<3.0.0dev,>=1.28.0->google-cloud-speech) (4.2.2)\n",
      "Requirement already satisfied, skipping upgrade: rsa<5,>=3.1.4; python_version >= \"3.6\" in /Users/yuyu/anaconda3/lib/python3.8/site-packages (from google-auth<2.0dev,>=1.25.0->google-api-core[grpc]<3.0.0dev,>=1.28.0->google-cloud-speech) (4.7.2)\n",
      "Requirement already satisfied, skipping upgrade: idna<3,>=2.5 in /Users/yuyu/anaconda3/lib/python3.8/site-packages (from requests<3.0.0dev,>=2.18.0->google-api-core[grpc]<3.0.0dev,>=1.28.0->google-cloud-speech) (2.10)\n",
      "Requirement already satisfied, skipping upgrade: chardet<4,>=3.0.2 in /Users/yuyu/anaconda3/lib/python3.8/site-packages (from requests<3.0.0dev,>=2.18.0->google-api-core[grpc]<3.0.0dev,>=1.28.0->google-cloud-speech) (3.0.4)\n",
      "Requirement already satisfied, skipping upgrade: certifi>=2017.4.17 in /Users/yuyu/anaconda3/lib/python3.8/site-packages (from requests<3.0.0dev,>=2.18.0->google-api-core[grpc]<3.0.0dev,>=1.28.0->google-cloud-speech) (2020.6.20)\n",
      "Requirement already satisfied, skipping upgrade: urllib3!=1.25.0,!=1.25.1,<1.26,>=1.21.1 in /Users/yuyu/anaconda3/lib/python3.8/site-packages (from requests<3.0.0dev,>=2.18.0->google-api-core[grpc]<3.0.0dev,>=1.28.0->google-cloud-speech) (1.25.9)\n",
      "Requirement already satisfied, skipping upgrade: pyasn1<0.5.0,>=0.4.6 in /Users/yuyu/anaconda3/lib/python3.8/site-packages (from pyasn1-modules>=0.2.1->google-auth<2.0dev,>=1.25.0->google-api-core[grpc]<3.0.0dev,>=1.28.0->google-cloud-speech) (0.4.8)\n",
      "Installing collected packages: google-cloud-speech\n",
      "  Attempting uninstall: google-cloud-speech\n",
      "    Found existing installation: google-cloud-speech 2.6.0\n",
      "    Uninstalling google-cloud-speech-2.6.0:\n",
      "      Successfully uninstalled google-cloud-speech-2.6.0\n",
      "Successfully installed google-cloud-speech-2.11.1\n"
     ]
    }
   ],
   "source": [
    "! pip3 install --upgrade google-cloud-speech"
   ]
  },
  {
   "cell_type": "markdown",
   "metadata": {
    "ExecuteTime": {
     "end_time": "2021-12-20T02:55:11.827408Z",
     "start_time": "2021-12-20T02:55:11.824639Z"
    }
   },
   "source": [
    "# Test Speech-to-Text "
   ]
  },
  {
   "cell_type": "code",
   "execution_count": 15,
   "metadata": {
    "ExecuteTime": {
     "end_time": "2021-12-20T08:11:01.420751Z",
     "start_time": "2021-12-20T08:11:01.049058Z"
    }
   },
   "outputs": [],
   "source": [
    "import os\n",
    "os.environ[\"GOOGLE_APPLICATION_CREDENTIALS\"]=\"./GoogleCloud_Key.json\"\n",
    "\n",
    "from google.cloud import speech\n",
    "\n",
    "client = speech.SpeechClient()"
   ]
  },
  {
   "cell_type": "code",
   "execution_count": 16,
   "metadata": {
    "ExecuteTime": {
     "end_time": "2021-12-20T08:11:04.192839Z",
     "start_time": "2021-12-20T08:11:04.186896Z"
    }
   },
   "outputs": [],
   "source": [
    "def transcribe_file(client, content, speech_file):\n",
    "    \"\"\"Transcribe the given audio file.\"\"\"\n",
    "    \n",
    "    with open(speech_file, \"rb\") as audio_file:\n",
    "        content = audio_file.read()\n",
    "\n",
    "    \"\"\"\n",
    "     Note that transcription is limited to a 60 seconds audio file.\n",
    "     Use a GCS file for audio longer than 1 minute.\n",
    "    \"\"\"\n",
    "    audio = speech.RecognitionAudio(content=content)\n",
    "    config = speech.RecognitionConfig(\n",
    "        encoding=speech.RecognitionConfig.AudioEncoding.LINEAR16,\n",
    "        sample_rate_hertz=44100,\n",
    "        language_code=\"en-US\",\n",
    "        audio_channel_count = 2,\n",
    "    )\n",
    "\n",
    "    response = client.recognize(config=config, audio=audio)\n",
    "    # Each result is for a consecutive portion of the audio. Iterate through\n",
    "    # them to get the transcripts for the entire audio file.\n",
    "    for result in response.results:\n",
    "        # The first alternative is the most likely one for this portion.\n",
    "        print(u\"Transcript: {}\".format(result.alternatives[0].transcript))"
   ]
  },
  {
   "cell_type": "markdown",
   "metadata": {},
   "source": [
    "# Speech in Jupyter Notebook"
   ]
  },
  {
   "cell_type": "code",
   "execution_count": 24,
   "metadata": {
    "ExecuteTime": {
     "end_time": "2021-12-20T08:22:01.839579Z",
     "start_time": "2021-12-20T08:22:01.836175Z"
    }
   },
   "outputs": [],
   "source": [
    "#import library\n",
    "\n",
    "import speech_recognition as sr\n",
    "import os\n",
    "os.environ[\"GOOGLE_APPLICATION_CREDENTIALS\"]=\"./GoogleCloud_Key.json\"\n",
    "\n",
    "# Initialize recognizer class (for recognizing the speech)\n",
    "\n",
    "r = sr.Recognizer()"
   ]
  },
  {
   "cell_type": "code",
   "execution_count": 27,
   "metadata": {
    "ExecuteTime": {
     "end_time": "2021-12-20T08:23:17.998858Z",
     "start_time": "2021-12-20T08:23:17.993498Z"
    }
   },
   "outputs": [],
   "source": [
    "def speech2text():\n",
    "    # Reading Microphone as source\n",
    "    # listening the speech and store in audio_text variable\n",
    "\n",
    "    with sr.Microphone() as source:\n",
    "        print(\"Start Recording...\")\n",
    "        audio = r.listen(source)\n",
    "        print(\"End Recording...\")\n",
    "\n",
    "        # recognize speech using Google Cloud Speech\n",
    "        try:\n",
    "            text = r.recognize_google(audio)\n",
    "            print(\"Google Cloud Speech thinks you said:\\n\" + text)\n",
    "        except sr.UnknownValueError:\n",
    "            print(\"Google Cloud Speech could not understand audio\")\n",
    "        except sr.RequestError as e:\n",
    "            print(\n",
    "                \"Could not request results from Google Cloud Speech service; {0}\".\n",
    "                format(e))\n",
    "    return text"
   ]
  }
 ],
 "metadata": {
  "kernelspec": {
   "display_name": "Python 3",
   "language": "python",
   "name": "python3"
  },
  "language_info": {
   "codemirror_mode": {
    "name": "ipython",
    "version": 3
   },
   "file_extension": ".py",
   "mimetype": "text/x-python",
   "name": "python",
   "nbconvert_exporter": "python",
   "pygments_lexer": "ipython3",
   "version": "3.8.3"
  },
  "latex_envs": {
   "LaTeX_envs_menu_present": true,
   "autoclose": false,
   "autocomplete": true,
   "bibliofile": "biblio.bib",
   "cite_by": "apalike",
   "current_citInitial": 1,
   "eqLabelWithNumbers": true,
   "eqNumInitial": 1,
   "hotkeys": {
    "equation": "Ctrl-E",
    "itemize": "Ctrl-I"
   },
   "labels_anchors": false,
   "latex_user_defs": false,
   "report_style_numbering": false,
   "user_envs_cfg": false
  },
  "toc": {
   "base_numbering": 1,
   "nav_menu": {},
   "number_sections": true,
   "sideBar": true,
   "skip_h1_title": false,
   "title_cell": "Table of Contents",
   "title_sidebar": "Contents",
   "toc_cell": false,
   "toc_position": {},
   "toc_section_display": true,
   "toc_window_display": false
  }
 },
 "nbformat": 4,
 "nbformat_minor": 4
}
